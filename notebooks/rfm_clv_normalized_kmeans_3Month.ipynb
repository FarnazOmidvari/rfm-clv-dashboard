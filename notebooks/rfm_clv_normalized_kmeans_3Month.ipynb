{
 "cells": [
  {
   "cell_type": "code",
   "execution_count": 52,
   "id": "68ab5a33",
   "metadata": {
    "id": "68ab5a33"
   },
   "outputs": [],
   "source": [
    "import pandas as pd\n",
    "import numpy as np\n",
    "import sklearn.preprocessing as pp\n",
    "import datetime as dt\n",
    "from sklearn.cluster import KMeans\n",
    "\n",
    "import matplotlib.pyplot as plt\n",
    "import seaborn as sbn"
   ]
  },
  {
   "cell_type": "markdown",
   "id": "ff5a62a1",
   "metadata": {
    "id": "ff5a62a1"
   },
   "source": [
    "## Read CSV File"
   ]
  },
  {
   "cell_type": "code",
   "execution_count": 2,
   "id": "163a714b",
   "metadata": {
    "id": "163a714b"
   },
   "outputs": [],
   "source": [
    "df = pd.read_csv('../exports/online_retail_cleaningdata.csv')"
   ]
  },
  {
   "cell_type": "code",
   "execution_count": 3,
   "id": "5d91d3ca",
   "metadata": {
    "colab": {
     "base_uri": "https://localhost:8080/",
     "height": 206
    },
    "id": "5d91d3ca",
    "outputId": "f8223e5e-f2bb-4db9-b0ff-c303991a9d8d"
   },
   "outputs": [
    {
     "data": {
      "text/html": [
       "<div>\n",
       "<style scoped>\n",
       "    .dataframe tbody tr th:only-of-type {\n",
       "        vertical-align: middle;\n",
       "    }\n",
       "\n",
       "    .dataframe tbody tr th {\n",
       "        vertical-align: top;\n",
       "    }\n",
       "\n",
       "    .dataframe thead th {\n",
       "        text-align: right;\n",
       "    }\n",
       "</style>\n",
       "<table border=\"1\" class=\"dataframe\">\n",
       "  <thead>\n",
       "    <tr style=\"text-align: right;\">\n",
       "      <th></th>\n",
       "      <th>Unnamed: 0</th>\n",
       "      <th>invoice_id</th>\n",
       "      <th>item_id</th>\n",
       "      <th>description</th>\n",
       "      <th>quantity</th>\n",
       "      <th>date</th>\n",
       "      <th>unit_price</th>\n",
       "      <th>sales</th>\n",
       "      <th>customer_id</th>\n",
       "      <th>country</th>\n",
       "    </tr>\n",
       "  </thead>\n",
       "  <tbody>\n",
       "    <tr>\n",
       "      <th>0</th>\n",
       "      <td>0</td>\n",
       "      <td>536365</td>\n",
       "      <td>85123A</td>\n",
       "      <td>WHITE HANGING HEART T-LIGHT HOLDER</td>\n",
       "      <td>6</td>\n",
       "      <td>2010-12-01</td>\n",
       "      <td>2.55</td>\n",
       "      <td>15.30</td>\n",
       "      <td>17850.0</td>\n",
       "      <td>United Kingdom</td>\n",
       "    </tr>\n",
       "    <tr>\n",
       "      <th>1</th>\n",
       "      <td>1</td>\n",
       "      <td>536365</td>\n",
       "      <td>71053</td>\n",
       "      <td>WHITE METAL LANTERN</td>\n",
       "      <td>6</td>\n",
       "      <td>2010-12-01</td>\n",
       "      <td>3.39</td>\n",
       "      <td>20.34</td>\n",
       "      <td>17850.0</td>\n",
       "      <td>United Kingdom</td>\n",
       "    </tr>\n",
       "    <tr>\n",
       "      <th>2</th>\n",
       "      <td>2</td>\n",
       "      <td>536365</td>\n",
       "      <td>84406B</td>\n",
       "      <td>CREAM CUPID HEARTS COAT HANGER</td>\n",
       "      <td>8</td>\n",
       "      <td>2010-12-01</td>\n",
       "      <td>2.75</td>\n",
       "      <td>22.00</td>\n",
       "      <td>17850.0</td>\n",
       "      <td>United Kingdom</td>\n",
       "    </tr>\n",
       "    <tr>\n",
       "      <th>3</th>\n",
       "      <td>3</td>\n",
       "      <td>536365</td>\n",
       "      <td>84029G</td>\n",
       "      <td>KNITTED UNION FLAG HOT WATER BOTTLE</td>\n",
       "      <td>6</td>\n",
       "      <td>2010-12-01</td>\n",
       "      <td>3.39</td>\n",
       "      <td>20.34</td>\n",
       "      <td>17850.0</td>\n",
       "      <td>United Kingdom</td>\n",
       "    </tr>\n",
       "    <tr>\n",
       "      <th>4</th>\n",
       "      <td>4</td>\n",
       "      <td>536365</td>\n",
       "      <td>84029E</td>\n",
       "      <td>RED WOOLLY HOTTIE WHITE HEART.</td>\n",
       "      <td>6</td>\n",
       "      <td>2010-12-01</td>\n",
       "      <td>3.39</td>\n",
       "      <td>20.34</td>\n",
       "      <td>17850.0</td>\n",
       "      <td>United Kingdom</td>\n",
       "    </tr>\n",
       "  </tbody>\n",
       "</table>\n",
       "</div>"
      ],
      "text/plain": [
       "   Unnamed: 0  invoice_id item_id                          description  \\\n",
       "0           0      536365  85123A   WHITE HANGING HEART T-LIGHT HOLDER   \n",
       "1           1      536365   71053                  WHITE METAL LANTERN   \n",
       "2           2      536365  84406B       CREAM CUPID HEARTS COAT HANGER   \n",
       "3           3      536365  84029G  KNITTED UNION FLAG HOT WATER BOTTLE   \n",
       "4           4      536365  84029E       RED WOOLLY HOTTIE WHITE HEART.   \n",
       "\n",
       "   quantity        date  unit_price  sales  customer_id         country  \n",
       "0         6  2010-12-01        2.55  15.30      17850.0  United Kingdom  \n",
       "1         6  2010-12-01        3.39  20.34      17850.0  United Kingdom  \n",
       "2         8  2010-12-01        2.75  22.00      17850.0  United Kingdom  \n",
       "3         6  2010-12-01        3.39  20.34      17850.0  United Kingdom  \n",
       "4         6  2010-12-01        3.39  20.34      17850.0  United Kingdom  "
      ]
     },
     "execution_count": 3,
     "metadata": {},
     "output_type": "execute_result"
    }
   ],
   "source": [
    "df.head()"
   ]
  },
  {
   "cell_type": "code",
   "execution_count": 4,
   "id": "aec6786f",
   "metadata": {
    "colab": {
     "base_uri": "https://localhost:8080/"
    },
    "id": "aec6786f",
    "outputId": "275504dd-9272-4f55-fa24-4f4f9ffd66c4"
   },
   "outputs": [
    {
     "name": "stdout",
     "output_type": "stream",
     "text": [
      "<class 'pandas.core.frame.DataFrame'>\n",
      "RangeIndex: 390294 entries, 0 to 390293\n",
      "Data columns (total 10 columns):\n",
      " #   Column       Non-Null Count   Dtype  \n",
      "---  ------       --------------   -----  \n",
      " 0   Unnamed: 0   390294 non-null  int64  \n",
      " 1   invoice_id   390294 non-null  int64  \n",
      " 2   item_id      390294 non-null  object \n",
      " 3   description  390294 non-null  object \n",
      " 4   quantity     390294 non-null  int64  \n",
      " 5   date         390294 non-null  object \n",
      " 6   unit_price   390294 non-null  float64\n",
      " 7   sales        390294 non-null  float64\n",
      " 8   customer_id  390294 non-null  float64\n",
      " 9   country      390294 non-null  object \n",
      "dtypes: float64(3), int64(3), object(4)\n",
      "memory usage: 29.8+ MB\n"
     ]
    }
   ],
   "source": [
    "df.info()"
   ]
  },
  {
   "cell_type": "code",
   "execution_count": 5,
   "id": "f981c484",
   "metadata": {
    "id": "f981c484"
   },
   "outputs": [],
   "source": [
    "df['date'] = pd.to_datetime(df['date'])"
   ]
  },
  {
   "cell_type": "code",
   "execution_count": 6,
   "id": "de886671",
   "metadata": {
    "colab": {
     "base_uri": "https://localhost:8080/"
    },
    "id": "de886671",
    "outputId": "ebfdffef-9cf2-4d77-fd35-f5600451dd73"
   },
   "outputs": [
    {
     "name": "stdout",
     "output_type": "stream",
     "text": [
      "<class 'pandas.core.frame.DataFrame'>\n",
      "RangeIndex: 390294 entries, 0 to 390293\n",
      "Data columns (total 10 columns):\n",
      " #   Column       Non-Null Count   Dtype         \n",
      "---  ------       --------------   -----         \n",
      " 0   Unnamed: 0   390294 non-null  int64         \n",
      " 1   invoice_id   390294 non-null  int64         \n",
      " 2   item_id      390294 non-null  object        \n",
      " 3   description  390294 non-null  object        \n",
      " 4   quantity     390294 non-null  int64         \n",
      " 5   date         390294 non-null  datetime64[ns]\n",
      " 6   unit_price   390294 non-null  float64       \n",
      " 7   sales        390294 non-null  float64       \n",
      " 8   customer_id  390294 non-null  float64       \n",
      " 9   country      390294 non-null  object        \n",
      "dtypes: datetime64[ns](1), float64(3), int64(3), object(3)\n",
      "memory usage: 29.8+ MB\n"
     ]
    }
   ],
   "source": [
    "df.info()"
   ]
  },
  {
   "cell_type": "code",
   "execution_count": 7,
   "id": "38d5abc6",
   "metadata": {
    "colab": {
     "base_uri": "https://localhost:8080/"
    },
    "id": "38d5abc6",
    "outputId": "d66208a4-3086-4063-c8c1-3f60d07313f4"
   },
   "outputs": [
    {
     "data": {
      "text/plain": [
       "Timestamp('2011-12-09 00:00:00')"
      ]
     },
     "execution_count": 7,
     "metadata": {},
     "output_type": "execute_result"
    }
   ],
   "source": [
    "last_date = df['date'].max()\n",
    "last_date"
   ]
  },
  {
   "cell_type": "code",
   "execution_count": 9,
   "id": "1f98fd8b",
   "metadata": {
    "colab": {
     "base_uri": "https://localhost:8080/"
    },
    "id": "1f98fd8b",
    "outputId": "b17471fb-2748-4095-82c6-1e6d961ee385"
   },
   "outputs": [
    {
     "data": {
      "text/plain": [
       "Timestamp('2010-12-01 00:00:00')"
      ]
     },
     "execution_count": 9,
     "metadata": {},
     "output_type": "execute_result"
    }
   ],
   "source": [
    "first_date = df['date'].min()\n",
    "first_date"
   ]
  },
  {
   "cell_type": "code",
   "execution_count": 10,
   "id": "ec0e6b14",
   "metadata": {
    "colab": {
     "base_uri": "https://localhost:8080/"
    },
    "id": "ec0e6b14",
    "outputId": "a994a912-3c31-4ebb-c163-88b01eadb952"
   },
   "outputs": [
    {
     "data": {
      "text/plain": [
       "Timestamp('2011-09-09 00:00:00')"
      ]
     },
     "execution_count": 10,
     "metadata": {},
     "output_type": "execute_result"
    }
   ],
   "source": [
    "three_months_ago = last_date - pd.DateOffset(months=3)\n",
    "three_months_ago"
   ]
  },
  {
   "cell_type": "code",
   "execution_count": 11,
   "id": "e07a7b29",
   "metadata": {
    "colab": {
     "base_uri": "https://localhost:8080/",
     "height": 615
    },
    "id": "e07a7b29",
    "outputId": "27e75211-83c1-4511-964b-e86d062600a4"
   },
   "outputs": [
    {
     "data": {
      "text/html": [
       "<div>\n",
       "<style scoped>\n",
       "    .dataframe tbody tr th:only-of-type {\n",
       "        vertical-align: middle;\n",
       "    }\n",
       "\n",
       "    .dataframe tbody tr th {\n",
       "        vertical-align: top;\n",
       "    }\n",
       "\n",
       "    .dataframe thead th {\n",
       "        text-align: right;\n",
       "    }\n",
       "</style>\n",
       "<table border=\"1\" class=\"dataframe\">\n",
       "  <thead>\n",
       "    <tr style=\"text-align: right;\">\n",
       "      <th></th>\n",
       "      <th>Unnamed: 0</th>\n",
       "      <th>invoice_id</th>\n",
       "      <th>item_id</th>\n",
       "      <th>description</th>\n",
       "      <th>quantity</th>\n",
       "      <th>date</th>\n",
       "      <th>unit_price</th>\n",
       "      <th>sales</th>\n",
       "      <th>customer_id</th>\n",
       "      <th>country</th>\n",
       "    </tr>\n",
       "  </thead>\n",
       "  <tbody>\n",
       "    <tr>\n",
       "      <th>230318</th>\n",
       "      <td>332447</td>\n",
       "      <td>566074</td>\n",
       "      <td>22624</td>\n",
       "      <td>IVORY KITCHEN SCALES</td>\n",
       "      <td>2</td>\n",
       "      <td>2011-09-09</td>\n",
       "      <td>8.50</td>\n",
       "      <td>17.00</td>\n",
       "      <td>12535.0</td>\n",
       "      <td>France</td>\n",
       "    </tr>\n",
       "    <tr>\n",
       "      <th>230319</th>\n",
       "      <td>332448</td>\n",
       "      <td>566074</td>\n",
       "      <td>22138</td>\n",
       "      <td>BAKING SET 9 PIECE RETROSPOT</td>\n",
       "      <td>6</td>\n",
       "      <td>2011-09-09</td>\n",
       "      <td>4.95</td>\n",
       "      <td>29.70</td>\n",
       "      <td>12535.0</td>\n",
       "      <td>France</td>\n",
       "    </tr>\n",
       "    <tr>\n",
       "      <th>230320</th>\n",
       "      <td>332449</td>\n",
       "      <td>566074</td>\n",
       "      <td>90184C</td>\n",
       "      <td>BLACK CHUNKY BEAD BRACELET W STRAP</td>\n",
       "      <td>4</td>\n",
       "      <td>2011-09-09</td>\n",
       "      <td>8.95</td>\n",
       "      <td>35.80</td>\n",
       "      <td>12535.0</td>\n",
       "      <td>France</td>\n",
       "    </tr>\n",
       "    <tr>\n",
       "      <th>230321</th>\n",
       "      <td>332450</td>\n",
       "      <td>566074</td>\n",
       "      <td>21155</td>\n",
       "      <td>RED RETROSPOT PEG BAG</td>\n",
       "      <td>12</td>\n",
       "      <td>2011-09-09</td>\n",
       "      <td>2.55</td>\n",
       "      <td>30.60</td>\n",
       "      <td>12535.0</td>\n",
       "      <td>France</td>\n",
       "    </tr>\n",
       "    <tr>\n",
       "      <th>230322</th>\n",
       "      <td>332451</td>\n",
       "      <td>566074</td>\n",
       "      <td>22558</td>\n",
       "      <td>CLOTHES PEGS RETROSPOT PACK 24</td>\n",
       "      <td>12</td>\n",
       "      <td>2011-09-09</td>\n",
       "      <td>1.65</td>\n",
       "      <td>19.80</td>\n",
       "      <td>12535.0</td>\n",
       "      <td>France</td>\n",
       "    </tr>\n",
       "    <tr>\n",
       "      <th>...</th>\n",
       "      <td>...</td>\n",
       "      <td>...</td>\n",
       "      <td>...</td>\n",
       "      <td>...</td>\n",
       "      <td>...</td>\n",
       "      <td>...</td>\n",
       "      <td>...</td>\n",
       "      <td>...</td>\n",
       "      <td>...</td>\n",
       "      <td>...</td>\n",
       "    </tr>\n",
       "    <tr>\n",
       "      <th>390289</th>\n",
       "      <td>541904</td>\n",
       "      <td>581587</td>\n",
       "      <td>22613</td>\n",
       "      <td>PACK OF 20 SPACEBOY NAPKINS</td>\n",
       "      <td>12</td>\n",
       "      <td>2011-12-09</td>\n",
       "      <td>0.85</td>\n",
       "      <td>10.20</td>\n",
       "      <td>12680.0</td>\n",
       "      <td>France</td>\n",
       "    </tr>\n",
       "    <tr>\n",
       "      <th>390290</th>\n",
       "      <td>541905</td>\n",
       "      <td>581587</td>\n",
       "      <td>22899</td>\n",
       "      <td>CHILDREN'S APRON DOLLY GIRL</td>\n",
       "      <td>6</td>\n",
       "      <td>2011-12-09</td>\n",
       "      <td>2.10</td>\n",
       "      <td>12.60</td>\n",
       "      <td>12680.0</td>\n",
       "      <td>France</td>\n",
       "    </tr>\n",
       "    <tr>\n",
       "      <th>390291</th>\n",
       "      <td>541906</td>\n",
       "      <td>581587</td>\n",
       "      <td>23254</td>\n",
       "      <td>CHILDRENS CUTLERY DOLLY GIRL</td>\n",
       "      <td>4</td>\n",
       "      <td>2011-12-09</td>\n",
       "      <td>4.15</td>\n",
       "      <td>16.60</td>\n",
       "      <td>12680.0</td>\n",
       "      <td>France</td>\n",
       "    </tr>\n",
       "    <tr>\n",
       "      <th>390292</th>\n",
       "      <td>541907</td>\n",
       "      <td>581587</td>\n",
       "      <td>23255</td>\n",
       "      <td>CHILDRENS CUTLERY CIRCUS PARADE</td>\n",
       "      <td>4</td>\n",
       "      <td>2011-12-09</td>\n",
       "      <td>4.15</td>\n",
       "      <td>16.60</td>\n",
       "      <td>12680.0</td>\n",
       "      <td>France</td>\n",
       "    </tr>\n",
       "    <tr>\n",
       "      <th>390293</th>\n",
       "      <td>541908</td>\n",
       "      <td>581587</td>\n",
       "      <td>22138</td>\n",
       "      <td>BAKING SET 9 PIECE RETROSPOT</td>\n",
       "      <td>3</td>\n",
       "      <td>2011-12-09</td>\n",
       "      <td>4.95</td>\n",
       "      <td>14.85</td>\n",
       "      <td>12680.0</td>\n",
       "      <td>France</td>\n",
       "    </tr>\n",
       "  </tbody>\n",
       "</table>\n",
       "<p>159976 rows × 10 columns</p>\n",
       "</div>"
      ],
      "text/plain": [
       "        Unnamed: 0  invoice_id item_id                         description  \\\n",
       "230318      332447      566074   22624                IVORY KITCHEN SCALES   \n",
       "230319      332448      566074   22138       BAKING SET 9 PIECE RETROSPOT    \n",
       "230320      332449      566074  90184C  BLACK CHUNKY BEAD BRACELET W STRAP   \n",
       "230321      332450      566074   21155               RED RETROSPOT PEG BAG   \n",
       "230322      332451      566074   22558     CLOTHES PEGS RETROSPOT PACK 24    \n",
       "...            ...         ...     ...                                 ...   \n",
       "390289      541904      581587   22613         PACK OF 20 SPACEBOY NAPKINS   \n",
       "390290      541905      581587   22899        CHILDREN'S APRON DOLLY GIRL    \n",
       "390291      541906      581587   23254       CHILDRENS CUTLERY DOLLY GIRL    \n",
       "390292      541907      581587   23255     CHILDRENS CUTLERY CIRCUS PARADE   \n",
       "390293      541908      581587   22138       BAKING SET 9 PIECE RETROSPOT    \n",
       "\n",
       "        quantity       date  unit_price  sales  customer_id country  \n",
       "230318         2 2011-09-09        8.50  17.00      12535.0  France  \n",
       "230319         6 2011-09-09        4.95  29.70      12535.0  France  \n",
       "230320         4 2011-09-09        8.95  35.80      12535.0  France  \n",
       "230321        12 2011-09-09        2.55  30.60      12535.0  France  \n",
       "230322        12 2011-09-09        1.65  19.80      12535.0  France  \n",
       "...          ...        ...         ...    ...          ...     ...  \n",
       "390289        12 2011-12-09        0.85  10.20      12680.0  France  \n",
       "390290         6 2011-12-09        2.10  12.60      12680.0  France  \n",
       "390291         4 2011-12-09        4.15  16.60      12680.0  France  \n",
       "390292         4 2011-12-09        4.15  16.60      12680.0  France  \n",
       "390293         3 2011-12-09        4.95  14.85      12680.0  France  \n",
       "\n",
       "[159976 rows x 10 columns]"
      ]
     },
     "execution_count": 11,
     "metadata": {},
     "output_type": "execute_result"
    }
   ],
   "source": [
    "df_last_3month = df[df['date'] >= three_months_ago]\n",
    "df_last_3month"
   ]
  },
  {
   "cell_type": "code",
   "execution_count": 13,
   "id": "3f919416",
   "metadata": {
    "id": "3f919416"
   },
   "outputs": [],
   "source": []
  },
  {
   "cell_type": "code",
   "execution_count": 12,
   "id": "c0b9e4ae",
   "metadata": {
    "id": "c0b9e4ae"
   },
   "outputs": [],
   "source": [
    "rfm_last_3month = (df_last_3month.groupby('customer_id').agg(\n",
    "                                        recency = ('date' , lambda x: (last_date - x.max()).days),\n",
    "                                        frequency = ('invoice_id' , 'nunique'),\n",
    "                                        monetary = ('sales' , 'sum')).reset_index())"
   ]
  },
  {
   "cell_type": "code",
   "execution_count": 13,
   "id": "af0da644",
   "metadata": {
    "colab": {
     "base_uri": "https://localhost:8080/",
     "height": 424
    },
    "id": "af0da644",
    "outputId": "c5adc1d6-5110-4d2c-e1c5-7228dd892dae"
   },
   "outputs": [
    {
     "data": {
      "text/html": [
       "<div>\n",
       "<style scoped>\n",
       "    .dataframe tbody tr th:only-of-type {\n",
       "        vertical-align: middle;\n",
       "    }\n",
       "\n",
       "    .dataframe tbody tr th {\n",
       "        vertical-align: top;\n",
       "    }\n",
       "\n",
       "    .dataframe thead th {\n",
       "        text-align: right;\n",
       "    }\n",
       "</style>\n",
       "<table border=\"1\" class=\"dataframe\">\n",
       "  <thead>\n",
       "    <tr style=\"text-align: right;\">\n",
       "      <th></th>\n",
       "      <th>customer_id</th>\n",
       "      <th>recency</th>\n",
       "      <th>frequency</th>\n",
       "      <th>monetary</th>\n",
       "    </tr>\n",
       "  </thead>\n",
       "  <tbody>\n",
       "    <tr>\n",
       "      <th>0</th>\n",
       "      <td>12347.0</td>\n",
       "      <td>2</td>\n",
       "      <td>2</td>\n",
       "      <td>1519.14</td>\n",
       "    </tr>\n",
       "    <tr>\n",
       "      <th>1</th>\n",
       "      <td>12348.0</td>\n",
       "      <td>75</td>\n",
       "      <td>1</td>\n",
       "      <td>270.00</td>\n",
       "    </tr>\n",
       "    <tr>\n",
       "      <th>2</th>\n",
       "      <td>12349.0</td>\n",
       "      <td>18</td>\n",
       "      <td>1</td>\n",
       "      <td>1353.80</td>\n",
       "    </tr>\n",
       "    <tr>\n",
       "      <th>3</th>\n",
       "      <td>12352.0</td>\n",
       "      <td>36</td>\n",
       "      <td>3</td>\n",
       "      <td>744.23</td>\n",
       "    </tr>\n",
       "    <tr>\n",
       "      <th>4</th>\n",
       "      <td>12356.0</td>\n",
       "      <td>22</td>\n",
       "      <td>1</td>\n",
       "      <td>58.35</td>\n",
       "    </tr>\n",
       "    <tr>\n",
       "      <th>...</th>\n",
       "      <td>...</td>\n",
       "      <td>...</td>\n",
       "      <td>...</td>\n",
       "      <td>...</td>\n",
       "    </tr>\n",
       "    <tr>\n",
       "      <th>2862</th>\n",
       "      <td>18277.0</td>\n",
       "      <td>58</td>\n",
       "      <td>1</td>\n",
       "      <td>110.38</td>\n",
       "    </tr>\n",
       "    <tr>\n",
       "      <th>2863</th>\n",
       "      <td>18278.0</td>\n",
       "      <td>73</td>\n",
       "      <td>1</td>\n",
       "      <td>173.90</td>\n",
       "    </tr>\n",
       "    <tr>\n",
       "      <th>2864</th>\n",
       "      <td>18282.0</td>\n",
       "      <td>7</td>\n",
       "      <td>1</td>\n",
       "      <td>77.84</td>\n",
       "    </tr>\n",
       "    <tr>\n",
       "      <th>2865</th>\n",
       "      <td>18283.0</td>\n",
       "      <td>3</td>\n",
       "      <td>6</td>\n",
       "      <td>958.26</td>\n",
       "    </tr>\n",
       "    <tr>\n",
       "      <th>2866</th>\n",
       "      <td>18287.0</td>\n",
       "      <td>42</td>\n",
       "      <td>2</td>\n",
       "      <td>1072.00</td>\n",
       "    </tr>\n",
       "  </tbody>\n",
       "</table>\n",
       "<p>2867 rows × 4 columns</p>\n",
       "</div>"
      ],
      "text/plain": [
       "      customer_id  recency  frequency  monetary\n",
       "0         12347.0        2          2   1519.14\n",
       "1         12348.0       75          1    270.00\n",
       "2         12349.0       18          1   1353.80\n",
       "3         12352.0       36          3    744.23\n",
       "4         12356.0       22          1     58.35\n",
       "...           ...      ...        ...       ...\n",
       "2862      18277.0       58          1    110.38\n",
       "2863      18278.0       73          1    173.90\n",
       "2864      18282.0        7          1     77.84\n",
       "2865      18283.0        3          6    958.26\n",
       "2866      18287.0       42          2   1072.00\n",
       "\n",
       "[2867 rows x 4 columns]"
      ]
     },
     "execution_count": 13,
     "metadata": {},
     "output_type": "execute_result"
    }
   ],
   "source": [
    "rfm_last_3month"
   ]
  },
  {
   "cell_type": "markdown",
   "id": "12c088fa",
   "metadata": {
    "id": "12c088fa"
   },
   "source": [
    "## **CLV = AOV * Purchase Frequency * Customer Lifespan**"
   ]
  },
  {
   "cell_type": "markdown",
   "id": "RIfWedQ9ma40",
   "metadata": {
    "id": "RIfWedQ9ma40"
   },
   "source": [
    "\n",
    "**AOV (Average Order Value)**\n"
   ]
  },
  {
   "cell_type": "code",
   "execution_count": 14,
   "id": "3b2490af",
   "metadata": {
    "colab": {
     "base_uri": "https://localhost:8080/",
     "height": 424
    },
    "id": "3b2490af",
    "outputId": "2eb7fab1-e5b5-4801-8726-607d2a07f129"
   },
   "outputs": [
    {
     "data": {
      "text/html": [
       "<div>\n",
       "<style scoped>\n",
       "    .dataframe tbody tr th:only-of-type {\n",
       "        vertical-align: middle;\n",
       "    }\n",
       "\n",
       "    .dataframe tbody tr th {\n",
       "        vertical-align: top;\n",
       "    }\n",
       "\n",
       "    .dataframe thead th {\n",
       "        text-align: right;\n",
       "    }\n",
       "</style>\n",
       "<table border=\"1\" class=\"dataframe\">\n",
       "  <thead>\n",
       "    <tr style=\"text-align: right;\">\n",
       "      <th></th>\n",
       "      <th>customer_id</th>\n",
       "      <th>recency</th>\n",
       "      <th>frequency</th>\n",
       "      <th>monetary</th>\n",
       "      <th>aov</th>\n",
       "    </tr>\n",
       "  </thead>\n",
       "  <tbody>\n",
       "    <tr>\n",
       "      <th>0</th>\n",
       "      <td>12347.0</td>\n",
       "      <td>2</td>\n",
       "      <td>2</td>\n",
       "      <td>1519.14</td>\n",
       "      <td>759.570000</td>\n",
       "    </tr>\n",
       "    <tr>\n",
       "      <th>1</th>\n",
       "      <td>12348.0</td>\n",
       "      <td>75</td>\n",
       "      <td>1</td>\n",
       "      <td>270.00</td>\n",
       "      <td>270.000000</td>\n",
       "    </tr>\n",
       "    <tr>\n",
       "      <th>2</th>\n",
       "      <td>12349.0</td>\n",
       "      <td>18</td>\n",
       "      <td>1</td>\n",
       "      <td>1353.80</td>\n",
       "      <td>1353.800000</td>\n",
       "    </tr>\n",
       "    <tr>\n",
       "      <th>3</th>\n",
       "      <td>12352.0</td>\n",
       "      <td>36</td>\n",
       "      <td>3</td>\n",
       "      <td>744.23</td>\n",
       "      <td>248.076667</td>\n",
       "    </tr>\n",
       "    <tr>\n",
       "      <th>4</th>\n",
       "      <td>12356.0</td>\n",
       "      <td>22</td>\n",
       "      <td>1</td>\n",
       "      <td>58.35</td>\n",
       "      <td>58.350000</td>\n",
       "    </tr>\n",
       "    <tr>\n",
       "      <th>...</th>\n",
       "      <td>...</td>\n",
       "      <td>...</td>\n",
       "      <td>...</td>\n",
       "      <td>...</td>\n",
       "      <td>...</td>\n",
       "    </tr>\n",
       "    <tr>\n",
       "      <th>2862</th>\n",
       "      <td>18277.0</td>\n",
       "      <td>58</td>\n",
       "      <td>1</td>\n",
       "      <td>110.38</td>\n",
       "      <td>110.380000</td>\n",
       "    </tr>\n",
       "    <tr>\n",
       "      <th>2863</th>\n",
       "      <td>18278.0</td>\n",
       "      <td>73</td>\n",
       "      <td>1</td>\n",
       "      <td>173.90</td>\n",
       "      <td>173.900000</td>\n",
       "    </tr>\n",
       "    <tr>\n",
       "      <th>2864</th>\n",
       "      <td>18282.0</td>\n",
       "      <td>7</td>\n",
       "      <td>1</td>\n",
       "      <td>77.84</td>\n",
       "      <td>77.840000</td>\n",
       "    </tr>\n",
       "    <tr>\n",
       "      <th>2865</th>\n",
       "      <td>18283.0</td>\n",
       "      <td>3</td>\n",
       "      <td>6</td>\n",
       "      <td>958.26</td>\n",
       "      <td>159.710000</td>\n",
       "    </tr>\n",
       "    <tr>\n",
       "      <th>2866</th>\n",
       "      <td>18287.0</td>\n",
       "      <td>42</td>\n",
       "      <td>2</td>\n",
       "      <td>1072.00</td>\n",
       "      <td>536.000000</td>\n",
       "    </tr>\n",
       "  </tbody>\n",
       "</table>\n",
       "<p>2867 rows × 5 columns</p>\n",
       "</div>"
      ],
      "text/plain": [
       "      customer_id  recency  frequency  monetary          aov\n",
       "0         12347.0        2          2   1519.14   759.570000\n",
       "1         12348.0       75          1    270.00   270.000000\n",
       "2         12349.0       18          1   1353.80  1353.800000\n",
       "3         12352.0       36          3    744.23   248.076667\n",
       "4         12356.0       22          1     58.35    58.350000\n",
       "...           ...      ...        ...       ...          ...\n",
       "2862      18277.0       58          1    110.38   110.380000\n",
       "2863      18278.0       73          1    173.90   173.900000\n",
       "2864      18282.0        7          1     77.84    77.840000\n",
       "2865      18283.0        3          6    958.26   159.710000\n",
       "2866      18287.0       42          2   1072.00   536.000000\n",
       "\n",
       "[2867 rows x 5 columns]"
      ]
     },
     "execution_count": 14,
     "metadata": {},
     "output_type": "execute_result"
    }
   ],
   "source": [
    "rfm_last_3month['aov'] = (rfm_last_3month['monetary'] / rfm_last_3month['frequency']).clip(lower=1)\n",
    "rfm_last_3month"
   ]
  },
  {
   "cell_type": "code",
   "execution_count": 15,
   "id": "dd96df57",
   "metadata": {
    "colab": {
     "base_uri": "https://localhost:8080/",
     "height": 424
    },
    "id": "dd96df57",
    "outputId": "06492573-6fca-4552-f4a1-f2ecfa54b7a2"
   },
   "outputs": [
    {
     "data": {
      "text/html": [
       "<div>\n",
       "<style scoped>\n",
       "    .dataframe tbody tr th:only-of-type {\n",
       "        vertical-align: middle;\n",
       "    }\n",
       "\n",
       "    .dataframe tbody tr th {\n",
       "        vertical-align: top;\n",
       "    }\n",
       "\n",
       "    .dataframe thead th {\n",
       "        text-align: right;\n",
       "    }\n",
       "</style>\n",
       "<table border=\"1\" class=\"dataframe\">\n",
       "  <thead>\n",
       "    <tr style=\"text-align: right;\">\n",
       "      <th></th>\n",
       "      <th>customer_id</th>\n",
       "      <th>recency</th>\n",
       "      <th>frequency</th>\n",
       "      <th>monetary</th>\n",
       "      <th>aov</th>\n",
       "      <th>purchase_freq</th>\n",
       "    </tr>\n",
       "  </thead>\n",
       "  <tbody>\n",
       "    <tr>\n",
       "      <th>0</th>\n",
       "      <td>12347.0</td>\n",
       "      <td>2</td>\n",
       "      <td>2</td>\n",
       "      <td>1519.14</td>\n",
       "      <td>759.570000</td>\n",
       "      <td>2</td>\n",
       "    </tr>\n",
       "    <tr>\n",
       "      <th>1</th>\n",
       "      <td>12348.0</td>\n",
       "      <td>75</td>\n",
       "      <td>1</td>\n",
       "      <td>270.00</td>\n",
       "      <td>270.000000</td>\n",
       "      <td>1</td>\n",
       "    </tr>\n",
       "    <tr>\n",
       "      <th>2</th>\n",
       "      <td>12349.0</td>\n",
       "      <td>18</td>\n",
       "      <td>1</td>\n",
       "      <td>1353.80</td>\n",
       "      <td>1353.800000</td>\n",
       "      <td>1</td>\n",
       "    </tr>\n",
       "    <tr>\n",
       "      <th>3</th>\n",
       "      <td>12352.0</td>\n",
       "      <td>36</td>\n",
       "      <td>3</td>\n",
       "      <td>744.23</td>\n",
       "      <td>248.076667</td>\n",
       "      <td>3</td>\n",
       "    </tr>\n",
       "    <tr>\n",
       "      <th>4</th>\n",
       "      <td>12356.0</td>\n",
       "      <td>22</td>\n",
       "      <td>1</td>\n",
       "      <td>58.35</td>\n",
       "      <td>58.350000</td>\n",
       "      <td>1</td>\n",
       "    </tr>\n",
       "    <tr>\n",
       "      <th>...</th>\n",
       "      <td>...</td>\n",
       "      <td>...</td>\n",
       "      <td>...</td>\n",
       "      <td>...</td>\n",
       "      <td>...</td>\n",
       "      <td>...</td>\n",
       "    </tr>\n",
       "    <tr>\n",
       "      <th>2862</th>\n",
       "      <td>18277.0</td>\n",
       "      <td>58</td>\n",
       "      <td>1</td>\n",
       "      <td>110.38</td>\n",
       "      <td>110.380000</td>\n",
       "      <td>1</td>\n",
       "    </tr>\n",
       "    <tr>\n",
       "      <th>2863</th>\n",
       "      <td>18278.0</td>\n",
       "      <td>73</td>\n",
       "      <td>1</td>\n",
       "      <td>173.90</td>\n",
       "      <td>173.900000</td>\n",
       "      <td>1</td>\n",
       "    </tr>\n",
       "    <tr>\n",
       "      <th>2864</th>\n",
       "      <td>18282.0</td>\n",
       "      <td>7</td>\n",
       "      <td>1</td>\n",
       "      <td>77.84</td>\n",
       "      <td>77.840000</td>\n",
       "      <td>1</td>\n",
       "    </tr>\n",
       "    <tr>\n",
       "      <th>2865</th>\n",
       "      <td>18283.0</td>\n",
       "      <td>3</td>\n",
       "      <td>6</td>\n",
       "      <td>958.26</td>\n",
       "      <td>159.710000</td>\n",
       "      <td>6</td>\n",
       "    </tr>\n",
       "    <tr>\n",
       "      <th>2866</th>\n",
       "      <td>18287.0</td>\n",
       "      <td>42</td>\n",
       "      <td>2</td>\n",
       "      <td>1072.00</td>\n",
       "      <td>536.000000</td>\n",
       "      <td>2</td>\n",
       "    </tr>\n",
       "  </tbody>\n",
       "</table>\n",
       "<p>2867 rows × 6 columns</p>\n",
       "</div>"
      ],
      "text/plain": [
       "      customer_id  recency  frequency  monetary          aov  purchase_freq\n",
       "0         12347.0        2          2   1519.14   759.570000              2\n",
       "1         12348.0       75          1    270.00   270.000000              1\n",
       "2         12349.0       18          1   1353.80  1353.800000              1\n",
       "3         12352.0       36          3    744.23   248.076667              3\n",
       "4         12356.0       22          1     58.35    58.350000              1\n",
       "...           ...      ...        ...       ...          ...            ...\n",
       "2862      18277.0       58          1    110.38   110.380000              1\n",
       "2863      18278.0       73          1    173.90   173.900000              1\n",
       "2864      18282.0        7          1     77.84    77.840000              1\n",
       "2865      18283.0        3          6    958.26   159.710000              6\n",
       "2866      18287.0       42          2   1072.00   536.000000              2\n",
       "\n",
       "[2867 rows x 6 columns]"
      ]
     },
     "execution_count": 15,
     "metadata": {},
     "output_type": "execute_result"
    }
   ],
   "source": [
    "rfm_last_3month['purchase_freq'] = rfm_last_3month['frequency']\n",
    "rfm_last_3month"
   ]
  },
  {
   "cell_type": "markdown",
   "id": "bbbaeff8",
   "metadata": {
    "id": "bbbaeff8"
   },
   "source": [
    "## Lifespan per Months"
   ]
  },
  {
   "cell_type": "code",
   "execution_count": 16,
   "id": "052473c7",
   "metadata": {
    "colab": {
     "base_uri": "https://localhost:8080/",
     "height": 424
    },
    "id": "052473c7",
    "outputId": "5240656f-11da-4e39-932c-9696f0bd1d9b"
   },
   "outputs": [
    {
     "data": {
      "text/html": [
       "<div>\n",
       "<style scoped>\n",
       "    .dataframe tbody tr th:only-of-type {\n",
       "        vertical-align: middle;\n",
       "    }\n",
       "\n",
       "    .dataframe tbody tr th {\n",
       "        vertical-align: top;\n",
       "    }\n",
       "\n",
       "    .dataframe thead th {\n",
       "        text-align: right;\n",
       "    }\n",
       "</style>\n",
       "<table border=\"1\" class=\"dataframe\">\n",
       "  <thead>\n",
       "    <tr style=\"text-align: right;\">\n",
       "      <th></th>\n",
       "      <th>customer_id</th>\n",
       "      <th>recency</th>\n",
       "      <th>frequency</th>\n",
       "      <th>monetary</th>\n",
       "      <th>aov</th>\n",
       "      <th>purchase_freq</th>\n",
       "      <th>lifespn_per_month</th>\n",
       "    </tr>\n",
       "  </thead>\n",
       "  <tbody>\n",
       "    <tr>\n",
       "      <th>0</th>\n",
       "      <td>12347.0</td>\n",
       "      <td>2</td>\n",
       "      <td>2</td>\n",
       "      <td>1519.14</td>\n",
       "      <td>759.570000</td>\n",
       "      <td>2</td>\n",
       "      <td>1.000000</td>\n",
       "    </tr>\n",
       "    <tr>\n",
       "      <th>1</th>\n",
       "      <td>12348.0</td>\n",
       "      <td>75</td>\n",
       "      <td>1</td>\n",
       "      <td>270.00</td>\n",
       "      <td>270.000000</td>\n",
       "      <td>1</td>\n",
       "      <td>2.500000</td>\n",
       "    </tr>\n",
       "    <tr>\n",
       "      <th>2</th>\n",
       "      <td>12349.0</td>\n",
       "      <td>18</td>\n",
       "      <td>1</td>\n",
       "      <td>1353.80</td>\n",
       "      <td>1353.800000</td>\n",
       "      <td>1</td>\n",
       "      <td>1.000000</td>\n",
       "    </tr>\n",
       "    <tr>\n",
       "      <th>3</th>\n",
       "      <td>12352.0</td>\n",
       "      <td>36</td>\n",
       "      <td>3</td>\n",
       "      <td>744.23</td>\n",
       "      <td>248.076667</td>\n",
       "      <td>3</td>\n",
       "      <td>1.200000</td>\n",
       "    </tr>\n",
       "    <tr>\n",
       "      <th>4</th>\n",
       "      <td>12356.0</td>\n",
       "      <td>22</td>\n",
       "      <td>1</td>\n",
       "      <td>58.35</td>\n",
       "      <td>58.350000</td>\n",
       "      <td>1</td>\n",
       "      <td>1.000000</td>\n",
       "    </tr>\n",
       "    <tr>\n",
       "      <th>...</th>\n",
       "      <td>...</td>\n",
       "      <td>...</td>\n",
       "      <td>...</td>\n",
       "      <td>...</td>\n",
       "      <td>...</td>\n",
       "      <td>...</td>\n",
       "      <td>...</td>\n",
       "    </tr>\n",
       "    <tr>\n",
       "      <th>2862</th>\n",
       "      <td>18277.0</td>\n",
       "      <td>58</td>\n",
       "      <td>1</td>\n",
       "      <td>110.38</td>\n",
       "      <td>110.380000</td>\n",
       "      <td>1</td>\n",
       "      <td>1.933333</td>\n",
       "    </tr>\n",
       "    <tr>\n",
       "      <th>2863</th>\n",
       "      <td>18278.0</td>\n",
       "      <td>73</td>\n",
       "      <td>1</td>\n",
       "      <td>173.90</td>\n",
       "      <td>173.900000</td>\n",
       "      <td>1</td>\n",
       "      <td>2.433333</td>\n",
       "    </tr>\n",
       "    <tr>\n",
       "      <th>2864</th>\n",
       "      <td>18282.0</td>\n",
       "      <td>7</td>\n",
       "      <td>1</td>\n",
       "      <td>77.84</td>\n",
       "      <td>77.840000</td>\n",
       "      <td>1</td>\n",
       "      <td>1.000000</td>\n",
       "    </tr>\n",
       "    <tr>\n",
       "      <th>2865</th>\n",
       "      <td>18283.0</td>\n",
       "      <td>3</td>\n",
       "      <td>6</td>\n",
       "      <td>958.26</td>\n",
       "      <td>159.710000</td>\n",
       "      <td>6</td>\n",
       "      <td>1.000000</td>\n",
       "    </tr>\n",
       "    <tr>\n",
       "      <th>2866</th>\n",
       "      <td>18287.0</td>\n",
       "      <td>42</td>\n",
       "      <td>2</td>\n",
       "      <td>1072.00</td>\n",
       "      <td>536.000000</td>\n",
       "      <td>2</td>\n",
       "      <td>1.400000</td>\n",
       "    </tr>\n",
       "  </tbody>\n",
       "</table>\n",
       "<p>2867 rows × 7 columns</p>\n",
       "</div>"
      ],
      "text/plain": [
       "      customer_id  recency  frequency  monetary          aov  purchase_freq  \\\n",
       "0         12347.0        2          2   1519.14   759.570000              2   \n",
       "1         12348.0       75          1    270.00   270.000000              1   \n",
       "2         12349.0       18          1   1353.80  1353.800000              1   \n",
       "3         12352.0       36          3    744.23   248.076667              3   \n",
       "4         12356.0       22          1     58.35    58.350000              1   \n",
       "...           ...      ...        ...       ...          ...            ...   \n",
       "2862      18277.0       58          1    110.38   110.380000              1   \n",
       "2863      18278.0       73          1    173.90   173.900000              1   \n",
       "2864      18282.0        7          1     77.84    77.840000              1   \n",
       "2865      18283.0        3          6    958.26   159.710000              6   \n",
       "2866      18287.0       42          2   1072.00   536.000000              2   \n",
       "\n",
       "      lifespn_per_month  \n",
       "0              1.000000  \n",
       "1              2.500000  \n",
       "2              1.000000  \n",
       "3              1.200000  \n",
       "4              1.000000  \n",
       "...                 ...  \n",
       "2862           1.933333  \n",
       "2863           2.433333  \n",
       "2864           1.000000  \n",
       "2865           1.000000  \n",
       "2866           1.400000  \n",
       "\n",
       "[2867 rows x 7 columns]"
      ]
     },
     "execution_count": 16,
     "metadata": {},
     "output_type": "execute_result"
    }
   ],
   "source": [
    "rfm_last_3month['lifespn_per_month'] = (rfm_last_3month['recency'] / 30).clip(lower=1)\n",
    "rfm_last_3month"
   ]
  },
  {
   "cell_type": "markdown",
   "id": "vNVAkKOwnRyp",
   "metadata": {
    "id": "vNVAkKOwnRyp"
   },
   "source": [
    "## Lifespan = The Mean of All Recencies"
   ]
  },
  {
   "cell_type": "code",
   "execution_count": 17,
   "id": "ec946397",
   "metadata": {
    "id": "ec946397"
   },
   "outputs": [],
   "source": [
    "avg_recency = rfm_last_3month['recency'].mean()"
   ]
  },
  {
   "cell_type": "code",
   "execution_count": 18,
   "id": "c680417b",
   "metadata": {
    "id": "c680417b"
   },
   "outputs": [],
   "source": [
    "avg_lifespn = avg_recency / 30"
   ]
  },
  {
   "cell_type": "code",
   "execution_count": 19,
   "id": "2fe4594e",
   "metadata": {
    "colab": {
     "base_uri": "https://localhost:8080/",
     "height": 424
    },
    "id": "2fe4594e",
    "outputId": "6fce8bdc-603f-47aa-e526-9147728dc591"
   },
   "outputs": [
    {
     "data": {
      "text/html": [
       "<div>\n",
       "<style scoped>\n",
       "    .dataframe tbody tr th:only-of-type {\n",
       "        vertical-align: middle;\n",
       "    }\n",
       "\n",
       "    .dataframe tbody tr th {\n",
       "        vertical-align: top;\n",
       "    }\n",
       "\n",
       "    .dataframe thead th {\n",
       "        text-align: right;\n",
       "    }\n",
       "</style>\n",
       "<table border=\"1\" class=\"dataframe\">\n",
       "  <thead>\n",
       "    <tr style=\"text-align: right;\">\n",
       "      <th></th>\n",
       "      <th>customer_id</th>\n",
       "      <th>recency</th>\n",
       "      <th>frequency</th>\n",
       "      <th>monetary</th>\n",
       "      <th>aov</th>\n",
       "      <th>purchase_freq</th>\n",
       "      <th>lifespn_per_month</th>\n",
       "      <th>lifespn_avg</th>\n",
       "    </tr>\n",
       "  </thead>\n",
       "  <tbody>\n",
       "    <tr>\n",
       "      <th>0</th>\n",
       "      <td>12347.0</td>\n",
       "      <td>2</td>\n",
       "      <td>2</td>\n",
       "      <td>1519.14</td>\n",
       "      <td>759.570000</td>\n",
       "      <td>2</td>\n",
       "      <td>1.000000</td>\n",
       "      <td>1.050227</td>\n",
       "    </tr>\n",
       "    <tr>\n",
       "      <th>1</th>\n",
       "      <td>12348.0</td>\n",
       "      <td>75</td>\n",
       "      <td>1</td>\n",
       "      <td>270.00</td>\n",
       "      <td>270.000000</td>\n",
       "      <td>1</td>\n",
       "      <td>2.500000</td>\n",
       "      <td>1.050227</td>\n",
       "    </tr>\n",
       "    <tr>\n",
       "      <th>2</th>\n",
       "      <td>12349.0</td>\n",
       "      <td>18</td>\n",
       "      <td>1</td>\n",
       "      <td>1353.80</td>\n",
       "      <td>1353.800000</td>\n",
       "      <td>1</td>\n",
       "      <td>1.000000</td>\n",
       "      <td>1.050227</td>\n",
       "    </tr>\n",
       "    <tr>\n",
       "      <th>3</th>\n",
       "      <td>12352.0</td>\n",
       "      <td>36</td>\n",
       "      <td>3</td>\n",
       "      <td>744.23</td>\n",
       "      <td>248.076667</td>\n",
       "      <td>3</td>\n",
       "      <td>1.200000</td>\n",
       "      <td>1.050227</td>\n",
       "    </tr>\n",
       "    <tr>\n",
       "      <th>4</th>\n",
       "      <td>12356.0</td>\n",
       "      <td>22</td>\n",
       "      <td>1</td>\n",
       "      <td>58.35</td>\n",
       "      <td>58.350000</td>\n",
       "      <td>1</td>\n",
       "      <td>1.000000</td>\n",
       "      <td>1.050227</td>\n",
       "    </tr>\n",
       "    <tr>\n",
       "      <th>...</th>\n",
       "      <td>...</td>\n",
       "      <td>...</td>\n",
       "      <td>...</td>\n",
       "      <td>...</td>\n",
       "      <td>...</td>\n",
       "      <td>...</td>\n",
       "      <td>...</td>\n",
       "      <td>...</td>\n",
       "    </tr>\n",
       "    <tr>\n",
       "      <th>2862</th>\n",
       "      <td>18277.0</td>\n",
       "      <td>58</td>\n",
       "      <td>1</td>\n",
       "      <td>110.38</td>\n",
       "      <td>110.380000</td>\n",
       "      <td>1</td>\n",
       "      <td>1.933333</td>\n",
       "      <td>1.050227</td>\n",
       "    </tr>\n",
       "    <tr>\n",
       "      <th>2863</th>\n",
       "      <td>18278.0</td>\n",
       "      <td>73</td>\n",
       "      <td>1</td>\n",
       "      <td>173.90</td>\n",
       "      <td>173.900000</td>\n",
       "      <td>1</td>\n",
       "      <td>2.433333</td>\n",
       "      <td>1.050227</td>\n",
       "    </tr>\n",
       "    <tr>\n",
       "      <th>2864</th>\n",
       "      <td>18282.0</td>\n",
       "      <td>7</td>\n",
       "      <td>1</td>\n",
       "      <td>77.84</td>\n",
       "      <td>77.840000</td>\n",
       "      <td>1</td>\n",
       "      <td>1.000000</td>\n",
       "      <td>1.050227</td>\n",
       "    </tr>\n",
       "    <tr>\n",
       "      <th>2865</th>\n",
       "      <td>18283.0</td>\n",
       "      <td>3</td>\n",
       "      <td>6</td>\n",
       "      <td>958.26</td>\n",
       "      <td>159.710000</td>\n",
       "      <td>6</td>\n",
       "      <td>1.000000</td>\n",
       "      <td>1.050227</td>\n",
       "    </tr>\n",
       "    <tr>\n",
       "      <th>2866</th>\n",
       "      <td>18287.0</td>\n",
       "      <td>42</td>\n",
       "      <td>2</td>\n",
       "      <td>1072.00</td>\n",
       "      <td>536.000000</td>\n",
       "      <td>2</td>\n",
       "      <td>1.400000</td>\n",
       "      <td>1.050227</td>\n",
       "    </tr>\n",
       "  </tbody>\n",
       "</table>\n",
       "<p>2867 rows × 8 columns</p>\n",
       "</div>"
      ],
      "text/plain": [
       "      customer_id  recency  frequency  monetary          aov  purchase_freq  \\\n",
       "0         12347.0        2          2   1519.14   759.570000              2   \n",
       "1         12348.0       75          1    270.00   270.000000              1   \n",
       "2         12349.0       18          1   1353.80  1353.800000              1   \n",
       "3         12352.0       36          3    744.23   248.076667              3   \n",
       "4         12356.0       22          1     58.35    58.350000              1   \n",
       "...           ...      ...        ...       ...          ...            ...   \n",
       "2862      18277.0       58          1    110.38   110.380000              1   \n",
       "2863      18278.0       73          1    173.90   173.900000              1   \n",
       "2864      18282.0        7          1     77.84    77.840000              1   \n",
       "2865      18283.0        3          6    958.26   159.710000              6   \n",
       "2866      18287.0       42          2   1072.00   536.000000              2   \n",
       "\n",
       "      lifespn_per_month  lifespn_avg  \n",
       "0              1.000000     1.050227  \n",
       "1              2.500000     1.050227  \n",
       "2              1.000000     1.050227  \n",
       "3              1.200000     1.050227  \n",
       "4              1.000000     1.050227  \n",
       "...                 ...          ...  \n",
       "2862           1.933333     1.050227  \n",
       "2863           2.433333     1.050227  \n",
       "2864           1.000000     1.050227  \n",
       "2865           1.000000     1.050227  \n",
       "2866           1.400000     1.050227  \n",
       "\n",
       "[2867 rows x 8 columns]"
      ]
     },
     "execution_count": 19,
     "metadata": {},
     "output_type": "execute_result"
    }
   ],
   "source": [
    "rfm_last_3month['lifespn_avg'] = avg_lifespn\n",
    "rfm_last_3month"
   ]
  },
  {
   "cell_type": "code",
   "execution_count": 20,
   "id": "75770359",
   "metadata": {
    "id": "75770359"
   },
   "outputs": [],
   "source": [
    "rfm_last_3month['clv_lifesp_m'] = (\n",
    "                            rfm_last_3month['aov'] *\n",
    "                            rfm_last_3month['purchase_freq']*\n",
    "                            rfm_last_3month['lifespn_per_month']\n",
    ")"
   ]
  },
  {
   "cell_type": "code",
   "execution_count": 21,
   "id": "a7a5a66d",
   "metadata": {
    "id": "a7a5a66d"
   },
   "outputs": [],
   "source": [
    "rfm_last_3month['clv_lifesp_avg'] = (\n",
    "                            rfm_last_3month['aov'] *\n",
    "                            rfm_last_3month['purchase_freq']*\n",
    "                            rfm_last_3month['lifespn_avg']\n",
    ")"
   ]
  },
  {
   "cell_type": "code",
   "execution_count": 22,
   "id": "0a887bb2",
   "metadata": {
    "colab": {
     "base_uri": "https://localhost:8080/",
     "height": 424
    },
    "id": "0a887bb2",
    "outputId": "8d9276ce-5685-4b61-a706-6094d5bb1f80"
   },
   "outputs": [
    {
     "data": {
      "text/html": [
       "<div>\n",
       "<style scoped>\n",
       "    .dataframe tbody tr th:only-of-type {\n",
       "        vertical-align: middle;\n",
       "    }\n",
       "\n",
       "    .dataframe tbody tr th {\n",
       "        vertical-align: top;\n",
       "    }\n",
       "\n",
       "    .dataframe thead th {\n",
       "        text-align: right;\n",
       "    }\n",
       "</style>\n",
       "<table border=\"1\" class=\"dataframe\">\n",
       "  <thead>\n",
       "    <tr style=\"text-align: right;\">\n",
       "      <th></th>\n",
       "      <th>customer_id</th>\n",
       "      <th>recency</th>\n",
       "      <th>frequency</th>\n",
       "      <th>monetary</th>\n",
       "      <th>aov</th>\n",
       "      <th>purchase_freq</th>\n",
       "      <th>lifespn_per_month</th>\n",
       "      <th>lifespn_avg</th>\n",
       "      <th>clv_lifesp_m</th>\n",
       "      <th>clv_lifesp_avg</th>\n",
       "    </tr>\n",
       "  </thead>\n",
       "  <tbody>\n",
       "    <tr>\n",
       "      <th>0</th>\n",
       "      <td>12347.0</td>\n",
       "      <td>2</td>\n",
       "      <td>2</td>\n",
       "      <td>1519.14</td>\n",
       "      <td>759.570000</td>\n",
       "      <td>2</td>\n",
       "      <td>1.000000</td>\n",
       "      <td>1.050227</td>\n",
       "      <td>1519.140000</td>\n",
       "      <td>1595.441416</td>\n",
       "    </tr>\n",
       "    <tr>\n",
       "      <th>1</th>\n",
       "      <td>12348.0</td>\n",
       "      <td>75</td>\n",
       "      <td>1</td>\n",
       "      <td>270.00</td>\n",
       "      <td>270.000000</td>\n",
       "      <td>1</td>\n",
       "      <td>2.500000</td>\n",
       "      <td>1.050227</td>\n",
       "      <td>675.000000</td>\n",
       "      <td>283.561214</td>\n",
       "    </tr>\n",
       "    <tr>\n",
       "      <th>2</th>\n",
       "      <td>12349.0</td>\n",
       "      <td>18</td>\n",
       "      <td>1</td>\n",
       "      <td>1353.80</td>\n",
       "      <td>1353.800000</td>\n",
       "      <td>1</td>\n",
       "      <td>1.000000</td>\n",
       "      <td>1.050227</td>\n",
       "      <td>1353.800000</td>\n",
       "      <td>1421.796931</td>\n",
       "    </tr>\n",
       "    <tr>\n",
       "      <th>3</th>\n",
       "      <td>12352.0</td>\n",
       "      <td>36</td>\n",
       "      <td>3</td>\n",
       "      <td>744.23</td>\n",
       "      <td>248.076667</td>\n",
       "      <td>3</td>\n",
       "      <td>1.200000</td>\n",
       "      <td>1.050227</td>\n",
       "      <td>893.076000</td>\n",
       "      <td>781.610230</td>\n",
       "    </tr>\n",
       "    <tr>\n",
       "      <th>4</th>\n",
       "      <td>12356.0</td>\n",
       "      <td>22</td>\n",
       "      <td>1</td>\n",
       "      <td>58.35</td>\n",
       "      <td>58.350000</td>\n",
       "      <td>1</td>\n",
       "      <td>1.000000</td>\n",
       "      <td>1.050227</td>\n",
       "      <td>58.350000</td>\n",
       "      <td>61.280729</td>\n",
       "    </tr>\n",
       "    <tr>\n",
       "      <th>...</th>\n",
       "      <td>...</td>\n",
       "      <td>...</td>\n",
       "      <td>...</td>\n",
       "      <td>...</td>\n",
       "      <td>...</td>\n",
       "      <td>...</td>\n",
       "      <td>...</td>\n",
       "      <td>...</td>\n",
       "      <td>...</td>\n",
       "      <td>...</td>\n",
       "    </tr>\n",
       "    <tr>\n",
       "      <th>2862</th>\n",
       "      <td>18277.0</td>\n",
       "      <td>58</td>\n",
       "      <td>1</td>\n",
       "      <td>110.38</td>\n",
       "      <td>110.380000</td>\n",
       "      <td>1</td>\n",
       "      <td>1.933333</td>\n",
       "      <td>1.050227</td>\n",
       "      <td>213.401333</td>\n",
       "      <td>115.924025</td>\n",
       "    </tr>\n",
       "    <tr>\n",
       "      <th>2863</th>\n",
       "      <td>18278.0</td>\n",
       "      <td>73</td>\n",
       "      <td>1</td>\n",
       "      <td>173.90</td>\n",
       "      <td>173.900000</td>\n",
       "      <td>1</td>\n",
       "      <td>2.433333</td>\n",
       "      <td>1.050227</td>\n",
       "      <td>423.156667</td>\n",
       "      <td>182.634426</td>\n",
       "    </tr>\n",
       "    <tr>\n",
       "      <th>2864</th>\n",
       "      <td>18282.0</td>\n",
       "      <td>7</td>\n",
       "      <td>1</td>\n",
       "      <td>77.84</td>\n",
       "      <td>77.840000</td>\n",
       "      <td>1</td>\n",
       "      <td>1.000000</td>\n",
       "      <td>1.050227</td>\n",
       "      <td>77.840000</td>\n",
       "      <td>81.749648</td>\n",
       "    </tr>\n",
       "    <tr>\n",
       "      <th>2865</th>\n",
       "      <td>18283.0</td>\n",
       "      <td>3</td>\n",
       "      <td>6</td>\n",
       "      <td>958.26</td>\n",
       "      <td>159.710000</td>\n",
       "      <td>6</td>\n",
       "      <td>1.000000</td>\n",
       "      <td>1.050227</td>\n",
       "      <td>958.260000</td>\n",
       "      <td>1006.390255</td>\n",
       "    </tr>\n",
       "    <tr>\n",
       "      <th>2866</th>\n",
       "      <td>18287.0</td>\n",
       "      <td>42</td>\n",
       "      <td>2</td>\n",
       "      <td>1072.00</td>\n",
       "      <td>536.000000</td>\n",
       "      <td>2</td>\n",
       "      <td>1.400000</td>\n",
       "      <td>1.050227</td>\n",
       "      <td>1500.800000</td>\n",
       "      <td>1125.843042</td>\n",
       "    </tr>\n",
       "  </tbody>\n",
       "</table>\n",
       "<p>2867 rows × 10 columns</p>\n",
       "</div>"
      ],
      "text/plain": [
       "      customer_id  recency  frequency  monetary          aov  purchase_freq  \\\n",
       "0         12347.0        2          2   1519.14   759.570000              2   \n",
       "1         12348.0       75          1    270.00   270.000000              1   \n",
       "2         12349.0       18          1   1353.80  1353.800000              1   \n",
       "3         12352.0       36          3    744.23   248.076667              3   \n",
       "4         12356.0       22          1     58.35    58.350000              1   \n",
       "...           ...      ...        ...       ...          ...            ...   \n",
       "2862      18277.0       58          1    110.38   110.380000              1   \n",
       "2863      18278.0       73          1    173.90   173.900000              1   \n",
       "2864      18282.0        7          1     77.84    77.840000              1   \n",
       "2865      18283.0        3          6    958.26   159.710000              6   \n",
       "2866      18287.0       42          2   1072.00   536.000000              2   \n",
       "\n",
       "      lifespn_per_month  lifespn_avg  clv_lifesp_m  clv_lifesp_avg  \n",
       "0              1.000000     1.050227   1519.140000     1595.441416  \n",
       "1              2.500000     1.050227    675.000000      283.561214  \n",
       "2              1.000000     1.050227   1353.800000     1421.796931  \n",
       "3              1.200000     1.050227    893.076000      781.610230  \n",
       "4              1.000000     1.050227     58.350000       61.280729  \n",
       "...                 ...          ...           ...             ...  \n",
       "2862           1.933333     1.050227    213.401333      115.924025  \n",
       "2863           2.433333     1.050227    423.156667      182.634426  \n",
       "2864           1.000000     1.050227     77.840000       81.749648  \n",
       "2865           1.000000     1.050227    958.260000     1006.390255  \n",
       "2866           1.400000     1.050227   1500.800000     1125.843042  \n",
       "\n",
       "[2867 rows x 10 columns]"
      ]
     },
     "execution_count": 22,
     "metadata": {},
     "output_type": "execute_result"
    }
   ],
   "source": [
    "rfm_last_3month"
   ]
  },
  {
   "cell_type": "code",
   "execution_count": 23,
   "id": "86b1de94",
   "metadata": {
    "id": "86b1de94"
   },
   "outputs": [],
   "source": [
    "rfm_last_3month.to_csv('../exports/rfm_clv_3month_RealData.csv')"
   ]
  },
  {
   "cell_type": "code",
   "execution_count": 24,
   "id": "8e754441",
   "metadata": {
    "id": "8e754441"
   },
   "outputs": [],
   "source": [
    "rfm_last_3month.to_excel('../exports/rfm_clv_3month_RealData.xlsx')"
   ]
  },
  {
   "cell_type": "code",
   "execution_count": 25,
   "id": "25cc73c9",
   "metadata": {
    "colab": {
     "base_uri": "https://localhost:8080/",
     "height": 572
    },
    "id": "25cc73c9",
    "outputId": "09f19f37-76b0-46d4-c861-ffd7174b8583"
   },
   "outputs": [
    {
     "data": {
      "image/png": "[encoded data removed]",
      "text/plain": [
       "<Figure size 1296x576 with 6 Axes>"
      ]
     },
     "metadata": {
      "needs_background": "light"
     },
     "output_type": "display_data"
    }
   ],
   "source": [
    "plt.figure(figsize=(18,8))\n",
    "\n",
    "# Recency vs Frequency\n",
    "plt.subplot(2, 3, 1)\n",
    "plt.scatter(rfm_last_3month['recency'], rfm_last_3month['frequency'], color='green', alpha=0.5)\n",
    "plt.xlabel('Recency')\n",
    "plt.ylabel('Frequency')\n",
    "plt.title('Recency vs Frequency')\n",
    "\n",
    "# Recency vs Monetary\n",
    "plt.subplot(2, 3, 2)\n",
    "plt.scatter(rfm_last_3month['recency'], rfm_last_3month['monetary'], color='blue', alpha=0.5)\n",
    "plt.xlabel('Recency')\n",
    "plt.ylabel('Monetary')\n",
    "plt.title('Recency vs Monetary')\n",
    "\n",
    "# Frequency vs Monetary\n",
    "plt.subplot(2, 3, 3)\n",
    "plt.scatter(rfm_last_3month['frequency'], rfm_last_3month['monetary'], color='red', alpha=0.5)\n",
    "plt.xlabel('Frequency')\n",
    "plt.ylabel('Monetary')\n",
    "plt.title('Frequency vs Monetary')\n",
    "\n",
    "# recency vs clv_lifesp_avg\n",
    "plt.subplot(2, 3, 4)\n",
    "plt.scatter(rfm_last_3month['clv_lifesp_avg'], rfm_last_3month['recency'], color='green', alpha=0.6)\n",
    "plt.xlabel('clv_lifesp_avg')\n",
    "plt.ylabel('recency')\n",
    "plt.title('Scatter Plot - recency vs clv_lifesp_avg')\n",
    "\n",
    "# Frequency vs clv_lifesp_avg\n",
    "plt.subplot(2, 3, 5)\n",
    "plt.scatter(rfm_last_3month['clv_lifesp_avg'], rfm_last_3month['frequency'], color='blue', alpha=0.6)\n",
    "plt.xlabel('clv_lifesp_avg')\n",
    "plt.ylabel('Frequency')\n",
    "plt.title('Scatter Plot - Frequency vs clv_lifesp_avg')\n",
    "\n",
    "# Frequency vs clv_lifesp_avg\n",
    "plt.subplot(2, 3, 6)\n",
    "plt.scatter(rfm_last_3month['clv_lifesp_avg'], rfm_last_3month['monetary'], color='red', alpha=0.6)\n",
    "plt.xlabel('clv_lifesp_avg')\n",
    "plt.ylabel('Monetary')\n",
    "plt.title('Scatter Plot - Monetary vs clv_lifesp_avg')\n",
    "\n",
    "\n",
    "\n",
    "plt.tight_layout()\n",
    "plt.show()\n"
   ]
  },
  {
   "cell_type": "markdown",
   "id": "463b5b75",
   "metadata": {
    "id": "463b5b75"
   },
   "source": [
    "## Normalization,Standardization"
   ]
  },
  {
   "cell_type": "code",
   "execution_count": 26,
   "id": "cfa38a5d",
   "metadata": {
    "id": "cfa38a5d"
   },
   "outputs": [],
   "source": [
    "relevant_cols = ['recency' , 'frequency' , 'monetary' , 'clv_lifesp_m' , 'clv_lifesp_avg']"
   ]
  },
  {
   "cell_type": "code",
   "execution_count": 27,
   "id": "3649c875",
   "metadata": {
    "colab": {
     "base_uri": "https://localhost:8080/",
     "height": 206
    },
    "id": "3649c875",
    "outputId": "39fdd1b1-b212-4673-9f4f-df055b974a1a"
   },
   "outputs": [
    {
     "data": {
      "text/html": [
       "<div>\n",
       "<style scoped>\n",
       "    .dataframe tbody tr th:only-of-type {\n",
       "        vertical-align: middle;\n",
       "    }\n",
       "\n",
       "    .dataframe tbody tr th {\n",
       "        vertical-align: top;\n",
       "    }\n",
       "\n",
       "    .dataframe thead th {\n",
       "        text-align: right;\n",
       "    }\n",
       "</style>\n",
       "<table border=\"1\" class=\"dataframe\">\n",
       "  <thead>\n",
       "    <tr style=\"text-align: right;\">\n",
       "      <th></th>\n",
       "      <th>recency</th>\n",
       "      <th>frequency</th>\n",
       "      <th>monetary</th>\n",
       "      <th>clv_lifesp_m</th>\n",
       "      <th>clv_lifesp_avg</th>\n",
       "    </tr>\n",
       "  </thead>\n",
       "  <tbody>\n",
       "    <tr>\n",
       "      <th>0</th>\n",
       "      <td>2</td>\n",
       "      <td>2</td>\n",
       "      <td>1519.14</td>\n",
       "      <td>1519.140</td>\n",
       "      <td>1595.441416</td>\n",
       "    </tr>\n",
       "    <tr>\n",
       "      <th>1</th>\n",
       "      <td>75</td>\n",
       "      <td>1</td>\n",
       "      <td>270.00</td>\n",
       "      <td>675.000</td>\n",
       "      <td>283.561214</td>\n",
       "    </tr>\n",
       "    <tr>\n",
       "      <th>2</th>\n",
       "      <td>18</td>\n",
       "      <td>1</td>\n",
       "      <td>1353.80</td>\n",
       "      <td>1353.800</td>\n",
       "      <td>1421.796931</td>\n",
       "    </tr>\n",
       "    <tr>\n",
       "      <th>3</th>\n",
       "      <td>36</td>\n",
       "      <td>3</td>\n",
       "      <td>744.23</td>\n",
       "      <td>893.076</td>\n",
       "      <td>781.610230</td>\n",
       "    </tr>\n",
       "    <tr>\n",
       "      <th>4</th>\n",
       "      <td>22</td>\n",
       "      <td>1</td>\n",
       "      <td>58.35</td>\n",
       "      <td>58.350</td>\n",
       "      <td>61.280729</td>\n",
       "    </tr>\n",
       "  </tbody>\n",
       "</table>\n",
       "</div>"
      ],
      "text/plain": [
       "   recency  frequency  monetary  clv_lifesp_m  clv_lifesp_avg\n",
       "0        2          2   1519.14      1519.140     1595.441416\n",
       "1       75          1    270.00       675.000      283.561214\n",
       "2       18          1   1353.80      1353.800     1421.796931\n",
       "3       36          3    744.23       893.076      781.610230\n",
       "4       22          1     58.35        58.350       61.280729"
      ]
     },
     "execution_count": 27,
     "metadata": {},
     "output_type": "execute_result"
    }
   ],
   "source": [
    "rfm_clv = rfm_last_3month[relevant_cols]\n",
    "rfm_clv.head()"
   ]
  },
  {
   "cell_type": "markdown",
   "id": "d0a7ece3",
   "metadata": {
    "id": "d0a7ece3"
   },
   "source": [
    "### MinMax Normalization"
   ]
  },
  {
   "cell_type": "code",
   "execution_count": 28,
   "id": "5d91eaf1",
   "metadata": {
    "id": "5d91eaf1"
   },
   "outputs": [],
   "source": [
    "scaler1 = pp.MinMaxScaler()\n",
    "minmax_sclr = scaler1.fit_transform(rfm_clv)"
   ]
  },
  {
   "cell_type": "code",
   "execution_count": 29,
   "id": "0acb1c6f",
   "metadata": {
    "colab": {
     "base_uri": "https://localhost:8080/"
    },
    "id": "0acb1c6f",
    "outputId": "c9359c51-409b-4153-a874-1e84cd18b660"
   },
   "outputs": [
    {
     "data": {
      "text/plain": [
       "array([[0.02197802, 0.01136364, 0.02623749, 0.02619602, 0.02622069],\n",
       "       [0.82417582, 0.        , 0.00466323, 0.01161601, 0.00464606],\n",
       "       [0.1978022 , 0.        , 0.02338185, 0.02334026, 0.023365  ],\n",
       "       ...,\n",
       "       [0.07692308, 0.        , 0.00134438, 0.00130185, 0.00132715],\n",
       "       [0.03296703, 0.05681818, 0.01655037, 0.01650849, 0.0165334 ],\n",
       "       [0.46153846, 0.01136364, 0.0185148 , 0.02587925, 0.01849787]])"
      ]
     },
     "execution_count": 29,
     "metadata": {},
     "output_type": "execute_result"
    }
   ],
   "source": [
    "minmax_sclr"
   ]
  },
  {
   "cell_type": "code",
   "execution_count": 30,
   "id": "e0d6cc4e",
   "metadata": {
    "colab": {
     "base_uri": "https://localhost:8080/",
     "height": 206
    },
    "id": "e0d6cc4e",
    "outputId": "bd8ce316-0f87-453f-cc1b-8f7d77687355"
   },
   "outputs": [
    {
     "data": {
      "text/html": [
       "<div>\n",
       "<style scoped>\n",
       "    .dataframe tbody tr th:only-of-type {\n",
       "        vertical-align: middle;\n",
       "    }\n",
       "\n",
       "    .dataframe tbody tr th {\n",
       "        vertical-align: top;\n",
       "    }\n",
       "\n",
       "    .dataframe thead th {\n",
       "        text-align: right;\n",
       "    }\n",
       "</style>\n",
       "<table border=\"1\" class=\"dataframe\">\n",
       "  <thead>\n",
       "    <tr style=\"text-align: right;\">\n",
       "      <th></th>\n",
       "      <th>recency</th>\n",
       "      <th>frequency</th>\n",
       "      <th>monetary</th>\n",
       "      <th>clv_lifesp_m</th>\n",
       "      <th>clv_lifesp_avg</th>\n",
       "    </tr>\n",
       "  </thead>\n",
       "  <tbody>\n",
       "    <tr>\n",
       "      <th>0</th>\n",
       "      <td>0.021978</td>\n",
       "      <td>0.011364</td>\n",
       "      <td>0.026237</td>\n",
       "      <td>0.026196</td>\n",
       "      <td>0.026221</td>\n",
       "    </tr>\n",
       "    <tr>\n",
       "      <th>1</th>\n",
       "      <td>0.824176</td>\n",
       "      <td>0.000000</td>\n",
       "      <td>0.004663</td>\n",
       "      <td>0.011616</td>\n",
       "      <td>0.004646</td>\n",
       "    </tr>\n",
       "    <tr>\n",
       "      <th>2</th>\n",
       "      <td>0.197802</td>\n",
       "      <td>0.000000</td>\n",
       "      <td>0.023382</td>\n",
       "      <td>0.023340</td>\n",
       "      <td>0.023365</td>\n",
       "    </tr>\n",
       "    <tr>\n",
       "      <th>3</th>\n",
       "      <td>0.395604</td>\n",
       "      <td>0.022727</td>\n",
       "      <td>0.012854</td>\n",
       "      <td>0.015383</td>\n",
       "      <td>0.012837</td>\n",
       "    </tr>\n",
       "    <tr>\n",
       "      <th>4</th>\n",
       "      <td>0.241758</td>\n",
       "      <td>0.000000</td>\n",
       "      <td>0.001008</td>\n",
       "      <td>0.000965</td>\n",
       "      <td>0.000991</td>\n",
       "    </tr>\n",
       "  </tbody>\n",
       "</table>\n",
       "</div>"
      ],
      "text/plain": [
       "    recency  frequency  monetary  clv_lifesp_m  clv_lifesp_avg\n",
       "0  0.021978   0.011364  0.026237      0.026196        0.026221\n",
       "1  0.824176   0.000000  0.004663      0.011616        0.004646\n",
       "2  0.197802   0.000000  0.023382      0.023340        0.023365\n",
       "3  0.395604   0.022727  0.012854      0.015383        0.012837\n",
       "4  0.241758   0.000000  0.001008      0.000965        0.000991"
      ]
     },
     "execution_count": 30,
     "metadata": {},
     "output_type": "execute_result"
    }
   ],
   "source": [
    "# Array to DataFrame\n",
    "\n",
    "minmax_df = pd.DataFrame(minmax_sclr, columns=relevant_cols)\n",
    "minmax_df.head()"
   ]
  },
  {
   "cell_type": "code",
   "execution_count": 31,
   "id": "6551aa87",
   "metadata": {
    "colab": {
     "base_uri": "https://localhost:8080/",
     "height": 571
    },
    "id": "6551aa87",
    "outputId": "aa3e9594-32f8-47ab-e8c5-b2eff91b240e"
   },
   "outputs": [
    {
     "data": {
      "image/png": "[encoded data removed]",
      "text/plain": [
       "<Figure size 1296x576 with 6 Axes>"
      ]
     },
     "metadata": {
      "needs_background": "light"
     },
     "output_type": "display_data"
    }
   ],
   "source": [
    "plt.figure(figsize=(18,8))\n",
    "\n",
    "# Recency vs Frequency\n",
    "plt.subplot(2, 3, 1)\n",
    "plt.scatter(minmax_df['recency'], minmax_df['frequency'], color='green', alpha=0.5)\n",
    "plt.xlabel('Recency')\n",
    "plt.ylabel('Frequency')\n",
    "plt.title('Recency vs Frequency')\n",
    "\n",
    "# Recency vs Monetary\n",
    "plt.subplot(2, 3, 2)\n",
    "plt.scatter(minmax_df['recency'], minmax_df['monetary'], color='blue', alpha=0.5)\n",
    "plt.xlabel('Recency')\n",
    "plt.ylabel('Monetary')\n",
    "plt.title('Recency vs Monetary')\n",
    "\n",
    "# Frequency vs Monetary\n",
    "plt.subplot(2, 3, 3)\n",
    "plt.scatter(minmax_df['frequency'], minmax_df['monetary'], color='red', alpha=0.5)\n",
    "plt.xlabel('Frequency')\n",
    "plt.ylabel('Monetary')\n",
    "plt.title('Frequency vs Monetary')\n",
    "\n",
    "# recency vs clv_lifesp_avg\n",
    "plt.subplot(2, 3, 4)\n",
    "plt.scatter(minmax_df['clv_lifesp_avg'], minmax_df['recency'], color='green', alpha=0.6)\n",
    "plt.xlabel('clv_lifesp_avg')\n",
    "plt.ylabel('recency')\n",
    "plt.title('Scatter Plot - recency vs clv_lifesp_avg')\n",
    "\n",
    "# Frequency vs clv_lifesp_avg\n",
    "plt.subplot(2, 3, 5)\n",
    "plt.scatter(minmax_df['clv_lifesp_avg'], minmax_df['frequency'], color='blue', alpha=0.6)\n",
    "plt.xlabel('clv_lifesp_avg')\n",
    "plt.ylabel('Frequency')\n",
    "plt.title('Scatter Plot - Frequency vs clv_lifesp_avg')\n",
    "\n",
    "# Frequency vs clv_lifesp_avg\n",
    "plt.subplot(2, 3, 6)\n",
    "plt.scatter(minmax_df['clv_lifesp_avg'], minmax_df['monetary'], color='red', alpha=0.6)\n",
    "plt.xlabel('clv_lifesp_avg')\n",
    "plt.ylabel('Monetary')\n",
    "plt.title('Scatter Plot - Monetary vs clv_lifesp_avg')\n",
    "\n",
    "\n",
    "\n",
    "plt.tight_layout()\n",
    "plt.show()\n"
   ]
  },
  {
   "cell_type": "markdown",
   "id": "d4c02ff3",
   "metadata": {
    "id": "d4c02ff3"
   },
   "source": [
    "### Standard Normalization"
   ]
  },
  {
   "cell_type": "code",
   "execution_count": 32,
   "id": "9d7f3477",
   "metadata": {
    "id": "9d7f3477"
   },
   "outputs": [],
   "source": [
    "scaler2 = pp.StandardScaler()\n",
    "std_sclr = scaler2.fit_transform(rfm_clv)"
   ]
  },
  {
   "cell_type": "code",
   "execution_count": 33,
   "id": "09940199",
   "metadata": {
    "colab": {
     "base_uri": "https://localhost:8080/"
    },
    "id": "09940199",
    "outputId": "445fbe10-7294-4965-94f4-de4cd2dcbc9d"
   },
   "outputs": [
    {
     "data": {
      "text/plain": [
       "array([[-1.18681418, -0.08571752,  0.24814933,  0.16932   ,  0.24814919],\n",
       "       [ 1.74937106, -0.40322675, -0.27697195, -0.17780761, -0.27697211],\n",
       "       [-0.54326673, -0.40322675,  0.17864266,  0.10132881,  0.17864253],\n",
       "       ...,\n",
       "       [-0.9857056 , -0.40322675, -0.35775337, -0.423372  , -0.35775354],\n",
       "       [-1.14659246,  1.18431938,  0.01236309, -0.06132531,  0.01236294],\n",
       "       [ 0.42205444, -0.08571752,  0.06017782,  0.16177822,  0.06017768]])"
      ]
     },
     "execution_count": 33,
     "metadata": {},
     "output_type": "execute_result"
    }
   ],
   "source": [
    "std_sclr"
   ]
  },
  {
   "cell_type": "code",
   "execution_count": 34,
   "id": "33afe977",
   "metadata": {
    "colab": {
     "base_uri": "https://localhost:8080/",
     "height": 206
    },
    "id": "33afe977",
    "outputId": "7552db05-812f-42e5-b122-d8469fa10e28"
   },
   "outputs": [
    {
     "data": {
      "text/html": [
       "<div>\n",
       "<style scoped>\n",
       "    .dataframe tbody tr th:only-of-type {\n",
       "        vertical-align: middle;\n",
       "    }\n",
       "\n",
       "    .dataframe tbody tr th {\n",
       "        vertical-align: top;\n",
       "    }\n",
       "\n",
       "    .dataframe thead th {\n",
       "        text-align: right;\n",
       "    }\n",
       "</style>\n",
       "<table border=\"1\" class=\"dataframe\">\n",
       "  <thead>\n",
       "    <tr style=\"text-align: right;\">\n",
       "      <th></th>\n",
       "      <th>recency</th>\n",
       "      <th>frequency</th>\n",
       "      <th>monetary</th>\n",
       "      <th>clv_lifesp_m</th>\n",
       "      <th>clv_lifesp_avg</th>\n",
       "    </tr>\n",
       "  </thead>\n",
       "  <tbody>\n",
       "    <tr>\n",
       "      <th>0</th>\n",
       "      <td>-1.186814</td>\n",
       "      <td>-0.085718</td>\n",
       "      <td>0.248149</td>\n",
       "      <td>0.169320</td>\n",
       "      <td>0.248149</td>\n",
       "    </tr>\n",
       "    <tr>\n",
       "      <th>1</th>\n",
       "      <td>1.749371</td>\n",
       "      <td>-0.403227</td>\n",
       "      <td>-0.276972</td>\n",
       "      <td>-0.177808</td>\n",
       "      <td>-0.276972</td>\n",
       "    </tr>\n",
       "    <tr>\n",
       "      <th>2</th>\n",
       "      <td>-0.543267</td>\n",
       "      <td>-0.403227</td>\n",
       "      <td>0.178643</td>\n",
       "      <td>0.101329</td>\n",
       "      <td>0.178643</td>\n",
       "    </tr>\n",
       "    <tr>\n",
       "      <th>3</th>\n",
       "      <td>0.180724</td>\n",
       "      <td>0.231792</td>\n",
       "      <td>-0.077612</td>\n",
       "      <td>-0.088130</td>\n",
       "      <td>-0.077612</td>\n",
       "    </tr>\n",
       "    <tr>\n",
       "      <th>4</th>\n",
       "      <td>-0.382380</td>\n",
       "      <td>-0.403227</td>\n",
       "      <td>-0.365947</td>\n",
       "      <td>-0.431387</td>\n",
       "      <td>-0.365947</td>\n",
       "    </tr>\n",
       "  </tbody>\n",
       "</table>\n",
       "</div>"
      ],
      "text/plain": [
       "    recency  frequency  monetary  clv_lifesp_m  clv_lifesp_avg\n",
       "0 -1.186814  -0.085718  0.248149      0.169320        0.248149\n",
       "1  1.749371  -0.403227 -0.276972     -0.177808       -0.276972\n",
       "2 -0.543267  -0.403227  0.178643      0.101329        0.178643\n",
       "3  0.180724   0.231792 -0.077612     -0.088130       -0.077612\n",
       "4 -0.382380  -0.403227 -0.365947     -0.431387       -0.365947"
      ]
     },
     "execution_count": 34,
     "metadata": {},
     "output_type": "execute_result"
    }
   ],
   "source": [
    "# Array to DataFrame\n",
    "\n",
    "std_df = pd.DataFrame(std_sclr , columns=relevant_cols)\n",
    "std_df.head()"
   ]
  },
  {
   "cell_type": "code",
   "execution_count": 35,
   "id": "0e022d7d",
   "metadata": {
    "colab": {
     "base_uri": "https://localhost:8080/",
     "height": 571
    },
    "id": "0e022d7d",
    "outputId": "5937d28e-6ee1-4b96-ee07-62a8ce5cf56e"
   },
   "outputs": [
    {
     "data": {
      "image/png": "[encoded data removed]",
      "text/plain": [
       "<Figure size 1296x576 with 6 Axes>"
      ]
     },
     "metadata": {
      "needs_background": "light"
     },
     "output_type": "display_data"
    }
   ],
   "source": [
    "plt.figure(figsize=(18,8))\n",
    "\n",
    "# Recency vs Frequency\n",
    "plt.subplot(2, 3, 1)\n",
    "plt.scatter(std_df['recency'], std_df['frequency'], color='green', alpha=0.5)\n",
    "plt.xlabel('Recency')\n",
    "plt.ylabel('Frequency')\n",
    "plt.title('Recency vs Frequency')\n",
    "\n",
    "# Recency vs Monetary\n",
    "plt.subplot(2, 3, 2)\n",
    "plt.scatter(std_df['recency'], std_df['monetary'], color='blue', alpha=0.5)\n",
    "plt.xlabel('Recency')\n",
    "plt.ylabel('Monetary')\n",
    "plt.title('Recency vs Monetary')\n",
    "\n",
    "# Frequency vs Monetary\n",
    "plt.subplot(2, 3, 3)\n",
    "plt.scatter(std_df['frequency'], std_df['monetary'], color='red', alpha=0.5)\n",
    "plt.xlabel('Frequency')\n",
    "plt.ylabel('Monetary')\n",
    "plt.title('Frequency vs Monetary')\n",
    "\n",
    "# recency vs clv_lifesp_avg\n",
    "plt.subplot(2, 3, 4)\n",
    "plt.scatter(std_df['clv_lifesp_avg'], std_df['recency'], color='green', alpha=0.6)\n",
    "plt.xlabel('clv_lifesp_avg')\n",
    "plt.ylabel('recency')\n",
    "plt.title('Scatter Plot - recency vs clv_lifesp_avg')\n",
    "\n",
    "# Frequency vs clv_lifesp_avg\n",
    "plt.subplot(2, 3, 5)\n",
    "plt.scatter(std_df['clv_lifesp_avg'], std_df['frequency'], color='blue', alpha=0.6)\n",
    "plt.xlabel('clv_lifesp_avg')\n",
    "plt.ylabel('Frequency')\n",
    "plt.title('Scatter Plot - Frequency vs clv_lifesp_avg')\n",
    "\n",
    "# Frequency vs clv_lifesp_avg\n",
    "plt.subplot(2, 3, 6)\n",
    "plt.scatter(std_df['clv_lifesp_avg'], std_df['monetary'], color='red', alpha=0.6)\n",
    "plt.xlabel('clv_lifesp_avg')\n",
    "plt.ylabel('Monetary')\n",
    "plt.title('Scatter Plot - Monetary vs clv_lifesp_avg')\n",
    "\n",
    "\n",
    "\n",
    "plt.tight_layout()\n",
    "plt.show()\n",
    "\n"
   ]
  },
  {
   "cell_type": "markdown",
   "id": "e42f67d0",
   "metadata": {
    "id": "e42f67d0"
   },
   "source": [
    "### Robust Normalization"
   ]
  },
  {
   "cell_type": "code",
   "execution_count": 36,
   "id": "36bcbadf",
   "metadata": {
    "id": "36bcbadf"
   },
   "outputs": [],
   "source": [
    "scaler3 = pp.RobustScaler()\n",
    "robust_sclr = scaler3.fit_transform(rfm_clv)"
   ]
  },
  {
   "cell_type": "code",
   "execution_count": 37,
   "id": "d49234a0",
   "metadata": {
    "colab": {
     "base_uri": "https://localhost:8080/"
    },
    "id": "d49234a0",
    "outputId": "8156eacc-2ab4-4abf-d79c-cd8b304e8d49"
   },
   "outputs": [
    {
     "data": {
      "text/plain": [
       "array([[-0.575     ,  0.5       ,  1.45109109,  1.00336818,  1.45109109],\n",
       "       [ 1.25      ,  0.        , -0.29010113,  0.02938764, -0.29010113],\n",
       "       [-0.175     ,  0.        ,  1.22062155,  0.81259657,  1.22062155],\n",
       "       ...,\n",
       "       [-0.45      ,  0.        , -0.55795541, -0.65962391, -0.55795541],\n",
       "       [-0.55      ,  2.5       ,  0.66927328,  0.35621699,  0.66927328],\n",
       "       [ 0.425     ,  0.5       ,  0.82781692,  0.98220723,  0.82781692]])"
      ]
     },
     "execution_count": 37,
     "metadata": {},
     "output_type": "execute_result"
    }
   ],
   "source": [
    "robust_sclr"
   ]
  },
  {
   "cell_type": "code",
   "execution_count": 38,
   "id": "d7118260",
   "metadata": {
    "colab": {
     "base_uri": "https://localhost:8080/",
     "height": 206
    },
    "id": "d7118260",
    "outputId": "2d50084e-5c99-4f2b-8a6c-12270a5a8153"
   },
   "outputs": [
    {
     "data": {
      "text/html": [
       "<div>\n",
       "<style scoped>\n",
       "    .dataframe tbody tr th:only-of-type {\n",
       "        vertical-align: middle;\n",
       "    }\n",
       "\n",
       "    .dataframe tbody tr th {\n",
       "        vertical-align: top;\n",
       "    }\n",
       "\n",
       "    .dataframe thead th {\n",
       "        text-align: right;\n",
       "    }\n",
       "</style>\n",
       "<table border=\"1\" class=\"dataframe\">\n",
       "  <thead>\n",
       "    <tr style=\"text-align: right;\">\n",
       "      <th></th>\n",
       "      <th>recency</th>\n",
       "      <th>frequency</th>\n",
       "      <th>monetary</th>\n",
       "      <th>clv_lifesp_m</th>\n",
       "      <th>clv_lifesp_avg</th>\n",
       "    </tr>\n",
       "  </thead>\n",
       "  <tbody>\n",
       "    <tr>\n",
       "      <th>0</th>\n",
       "      <td>-0.575</td>\n",
       "      <td>0.5</td>\n",
       "      <td>1.451091</td>\n",
       "      <td>1.003368</td>\n",
       "      <td>1.451091</td>\n",
       "    </tr>\n",
       "    <tr>\n",
       "      <th>1</th>\n",
       "      <td>1.250</td>\n",
       "      <td>0.0</td>\n",
       "      <td>-0.290101</td>\n",
       "      <td>0.029388</td>\n",
       "      <td>-0.290101</td>\n",
       "    </tr>\n",
       "    <tr>\n",
       "      <th>2</th>\n",
       "      <td>-0.175</td>\n",
       "      <td>0.0</td>\n",
       "      <td>1.220622</td>\n",
       "      <td>0.812597</td>\n",
       "      <td>1.220622</td>\n",
       "    </tr>\n",
       "    <tr>\n",
       "      <th>3</th>\n",
       "      <td>0.275</td>\n",
       "      <td>1.0</td>\n",
       "      <td>0.370934</td>\n",
       "      <td>0.281007</td>\n",
       "      <td>0.370934</td>\n",
       "    </tr>\n",
       "    <tr>\n",
       "      <th>4</th>\n",
       "      <td>-0.075</td>\n",
       "      <td>0.0</td>\n",
       "      <td>-0.585123</td>\n",
       "      <td>-0.682112</td>\n",
       "      <td>-0.585123</td>\n",
       "    </tr>\n",
       "  </tbody>\n",
       "</table>\n",
       "</div>"
      ],
      "text/plain": [
       "   recency  frequency  monetary  clv_lifesp_m  clv_lifesp_avg\n",
       "0   -0.575        0.5  1.451091      1.003368        1.451091\n",
       "1    1.250        0.0 -0.290101      0.029388       -0.290101\n",
       "2   -0.175        0.0  1.220622      0.812597        1.220622\n",
       "3    0.275        1.0  0.370934      0.281007        0.370934\n",
       "4   -0.075        0.0 -0.585123     -0.682112       -0.585123"
      ]
     },
     "execution_count": 38,
     "metadata": {},
     "output_type": "execute_result"
    }
   ],
   "source": [
    "# Array to DataFrame\n",
    "\n",
    "robust_df = pd.DataFrame(robust_sclr , columns=relevant_cols)\n",
    "robust_df.head()"
   ]
  },
  {
   "cell_type": "code",
   "execution_count": 39,
   "id": "423f4df0",
   "metadata": {
    "colab": {
     "base_uri": "https://localhost:8080/",
     "height": 571
    },
    "id": "423f4df0",
    "outputId": "e3753e29-5e9f-4609-f260-446851b93887"
   },
   "outputs": [
    {
     "data": {
      "image/png": "[encoded data removed]",
      "text/plain": [
       "<Figure size 1296x576 with 6 Axes>"
      ]
     },
     "metadata": {
      "needs_background": "light"
     },
     "output_type": "display_data"
    }
   ],
   "source": [
    "plt.figure(figsize=(18,8))\n",
    "\n",
    "# Recency vs Frequency\n",
    "plt.subplot(2, 3, 1)\n",
    "plt.scatter(robust_df['recency'], robust_df['frequency'], color='green', alpha=0.5)\n",
    "plt.xlabel('Recency')\n",
    "plt.ylabel('Frequency')\n",
    "plt.title('Recency vs Frequency')\n",
    "\n",
    "# Recency vs Monetary\n",
    "plt.subplot(2, 3, 2)\n",
    "plt.scatter(robust_df['recency'], robust_df['monetary'], color='blue', alpha=0.5)\n",
    "plt.xlabel('Recency')\n",
    "plt.ylabel('Monetary')\n",
    "plt.title('Recency vs Monetary')\n",
    "\n",
    "# Frequency vs Monetary\n",
    "plt.subplot(2, 3, 3)\n",
    "plt.scatter(robust_df['frequency'], robust_df['monetary'], color='red', alpha=0.5)\n",
    "plt.xlabel('Frequency')\n",
    "plt.ylabel('Monetary')\n",
    "plt.title('Frequency vs Monetary')\n",
    "\n",
    "# recency vs clv_lifesp_avg\n",
    "plt.subplot(2, 3, 4)\n",
    "plt.scatter(robust_df['clv_lifesp_avg'], robust_df['recency'], color='green', alpha=0.6)\n",
    "plt.xlabel('clv_lifesp_avg')\n",
    "plt.ylabel('recency')\n",
    "plt.title('Scatter Plot - recency vs clv_lifesp_avg')\n",
    "\n",
    "# Frequency vs clv_lifesp_avg\n",
    "plt.subplot(2, 3, 5)\n",
    "plt.scatter(robust_df['clv_lifesp_avg'], robust_df['frequency'], color='blue', alpha=0.6)\n",
    "plt.xlabel('clv_lifesp_avg')\n",
    "plt.ylabel('Frequency')\n",
    "plt.title('Scatter Plot - Frequency vs clv_lifesp_avg')\n",
    "\n",
    "# Frequency vs clv_lifesp_avg\n",
    "plt.subplot(2, 3, 6)\n",
    "plt.scatter(robust_df['clv_lifesp_avg'], robust_df['monetary'], color='red', alpha=0.6)\n",
    "plt.xlabel('clv_lifesp_avg')\n",
    "plt.ylabel('Monetary')\n",
    "plt.title('Scatter Plot - Monetary vs clv_lifesp_avg')\n",
    "\n",
    "\n",
    "\n",
    "plt.tight_layout()\n",
    "plt.show()\n",
    "\n"
   ]
  },
  {
   "cell_type": "markdown",
   "id": "597756d5",
   "metadata": {
    "id": "597756d5"
   },
   "source": [
    "## Clustering - KMeans - ElbowPlot"
   ]
  },
  {
   "cell_type": "code",
   "execution_count": 40,
   "id": "6b836192",
   "metadata": {
    "id": "6b836192"
   },
   "outputs": [],
   "source": [
    "def find_best_clusters(df, maximum_K):\n",
    "\n",
    "    clusters_centers = []\n",
    "    k_values = []\n",
    "\n",
    "    for k in range(1, maximum_K):\n",
    "\n",
    "        kmeans_model = KMeans(n_clusters = k)\n",
    "        kmeans_model.fit(df)\n",
    "\n",
    "        clusters_centers.append(kmeans_model.inertia_)\n",
    "        k_values.append(k)\n",
    "\n",
    "\n",
    "    return clusters_centers, k_values\n"
   ]
  },
  {
   "cell_type": "code",
   "execution_count": 41,
   "id": "40c0e6e3",
   "metadata": {
    "id": "40c0e6e3"
   },
   "outputs": [],
   "source": [
    "def generate_elbow_plot(clusters_centers, k_values):\n",
    "\n",
    "    figure = plt.subplots(figsize = (12, 6))\n",
    "    plt.plot(k_values, clusters_centers, 'o-', color = 'orange')\n",
    "    plt.xlabel(\"Number of Clusters (K)\")\n",
    "    plt.ylabel(\"Cluster Inertia\")\n",
    "    plt.title(\"Elbow Plot of KMeans\")\n",
    "    plt.show()\n"
   ]
  },
  {
   "cell_type": "code",
   "execution_count": 42,
   "id": "56b16516",
   "metadata": {
    "colab": {
     "base_uri": "https://localhost:8080/",
     "height": 564
    },
    "id": "56b16516",
    "outputId": "d5f74167-aeb7-401e-a30c-ecb4a362144c"
   },
   "outputs": [
    {
     "data": {
      "image/png": "[encoded data removed]",
      "text/plain": [
       "<Figure size 864x432 with 1 Axes>"
      ]
     },
     "metadata": {
      "needs_background": "light"
     },
     "output_type": "display_data"
    }
   ],
   "source": [
    "clusters_centers, k_values = find_best_clusters(std_sclr, 18)\n",
    "\n",
    "generate_elbow_plot(clusters_centers, k_values)\n"
   ]
  },
  {
   "cell_type": "code",
   "execution_count": 43,
   "id": "6e560b1a",
   "metadata": {
    "colab": {
     "base_uri": "https://localhost:8080/",
     "height": 80
    },
    "id": "6e560b1a",
    "outputId": "086ed032-753a-40f6-da60-772250044b31"
   },
   "outputs": [
    {
     "data": {
      "text/plain": [
       "KMeans(n_clusters=5)"
      ]
     },
     "execution_count": 43,
     "metadata": {},
     "output_type": "execute_result"
    }
   ],
   "source": [
    "kmeans_model = KMeans(n_clusters = 5)\n",
    "kmeans_model.fit(std_sclr)"
   ]
  },
  {
   "cell_type": "code",
   "execution_count": 44,
   "id": "ec009b18",
   "metadata": {
    "colab": {
     "base_uri": "https://localhost:8080/",
     "height": 206
    },
    "id": "ec009b18",
    "outputId": "327bb153-fa4b-49e0-d56f-0568ebc4ba52"
   },
   "outputs": [
    {
     "data": {
      "text/html": [
       "<div>\n",
       "<style scoped>\n",
       "    .dataframe tbody tr th:only-of-type {\n",
       "        vertical-align: middle;\n",
       "    }\n",
       "\n",
       "    .dataframe tbody tr th {\n",
       "        vertical-align: top;\n",
       "    }\n",
       "\n",
       "    .dataframe thead th {\n",
       "        text-align: right;\n",
       "    }\n",
       "</style>\n",
       "<table border=\"1\" class=\"dataframe\">\n",
       "  <thead>\n",
       "    <tr style=\"text-align: right;\">\n",
       "      <th></th>\n",
       "      <th>recency</th>\n",
       "      <th>frequency</th>\n",
       "      <th>monetary</th>\n",
       "      <th>clv_lifesp_m</th>\n",
       "      <th>clv_lifesp_avg</th>\n",
       "      <th>clusters</th>\n",
       "    </tr>\n",
       "  </thead>\n",
       "  <tbody>\n",
       "    <tr>\n",
       "      <th>0</th>\n",
       "      <td>-1.186814</td>\n",
       "      <td>-0.085718</td>\n",
       "      <td>0.248149</td>\n",
       "      <td>0.169320</td>\n",
       "      <td>0.248149</td>\n",
       "      <td>1</td>\n",
       "    </tr>\n",
       "    <tr>\n",
       "      <th>1</th>\n",
       "      <td>1.749371</td>\n",
       "      <td>-0.403227</td>\n",
       "      <td>-0.276972</td>\n",
       "      <td>-0.177808</td>\n",
       "      <td>-0.276972</td>\n",
       "      <td>0</td>\n",
       "    </tr>\n",
       "    <tr>\n",
       "      <th>2</th>\n",
       "      <td>-0.543267</td>\n",
       "      <td>-0.403227</td>\n",
       "      <td>0.178643</td>\n",
       "      <td>0.101329</td>\n",
       "      <td>0.178643</td>\n",
       "      <td>1</td>\n",
       "    </tr>\n",
       "    <tr>\n",
       "      <th>3</th>\n",
       "      <td>0.180724</td>\n",
       "      <td>0.231792</td>\n",
       "      <td>-0.077612</td>\n",
       "      <td>-0.088130</td>\n",
       "      <td>-0.077612</td>\n",
       "      <td>1</td>\n",
       "    </tr>\n",
       "    <tr>\n",
       "      <th>4</th>\n",
       "      <td>-0.382380</td>\n",
       "      <td>-0.403227</td>\n",
       "      <td>-0.365947</td>\n",
       "      <td>-0.431387</td>\n",
       "      <td>-0.365947</td>\n",
       "      <td>1</td>\n",
       "    </tr>\n",
       "  </tbody>\n",
       "</table>\n",
       "</div>"
      ],
      "text/plain": [
       "    recency  frequency  monetary  clv_lifesp_m  clv_lifesp_avg  clusters\n",
       "0 -1.186814  -0.085718  0.248149      0.169320        0.248149         1\n",
       "1  1.749371  -0.403227 -0.276972     -0.177808       -0.276972         0\n",
       "2 -0.543267  -0.403227  0.178643      0.101329        0.178643         1\n",
       "3  0.180724   0.231792 -0.077612     -0.088130       -0.077612         1\n",
       "4 -0.382380  -0.403227 -0.365947     -0.431387       -0.365947         1"
      ]
     },
     "execution_count": 44,
     "metadata": {},
     "output_type": "execute_result"
    }
   ],
   "source": [
    "std_df[\"clusters\"] = kmeans_model.labels_\n",
    "std_df.head()"
   ]
  },
  {
   "cell_type": "code",
   "execution_count": 50,
   "id": "4780af9a",
   "metadata": {},
   "outputs": [
    {
     "data": {
      "text/html": [
       "<div>\n",
       "<style scoped>\n",
       "    .dataframe tbody tr th:only-of-type {\n",
       "        vertical-align: middle;\n",
       "    }\n",
       "\n",
       "    .dataframe tbody tr th {\n",
       "        vertical-align: top;\n",
       "    }\n",
       "\n",
       "    .dataframe thead th {\n",
       "        text-align: right;\n",
       "    }\n",
       "</style>\n",
       "<table border=\"1\" class=\"dataframe\">\n",
       "  <thead>\n",
       "    <tr style=\"text-align: right;\">\n",
       "      <th></th>\n",
       "      <th>recency</th>\n",
       "      <th>frequency</th>\n",
       "      <th>monetary</th>\n",
       "      <th>clv_lifesp_m</th>\n",
       "      <th>clv_lifesp_avg</th>\n",
       "      <th>clusters</th>\n",
       "    </tr>\n",
       "  </thead>\n",
       "  <tbody>\n",
       "    <tr>\n",
       "      <th>0</th>\n",
       "      <td>2</td>\n",
       "      <td>2</td>\n",
       "      <td>1519.14</td>\n",
       "      <td>1519.140</td>\n",
       "      <td>1595.441416</td>\n",
       "      <td>1</td>\n",
       "    </tr>\n",
       "    <tr>\n",
       "      <th>1</th>\n",
       "      <td>75</td>\n",
       "      <td>1</td>\n",
       "      <td>270.00</td>\n",
       "      <td>675.000</td>\n",
       "      <td>283.561214</td>\n",
       "      <td>0</td>\n",
       "    </tr>\n",
       "    <tr>\n",
       "      <th>2</th>\n",
       "      <td>18</td>\n",
       "      <td>1</td>\n",
       "      <td>1353.80</td>\n",
       "      <td>1353.800</td>\n",
       "      <td>1421.796931</td>\n",
       "      <td>1</td>\n",
       "    </tr>\n",
       "    <tr>\n",
       "      <th>3</th>\n",
       "      <td>36</td>\n",
       "      <td>3</td>\n",
       "      <td>744.23</td>\n",
       "      <td>893.076</td>\n",
       "      <td>781.610230</td>\n",
       "      <td>1</td>\n",
       "    </tr>\n",
       "    <tr>\n",
       "      <th>4</th>\n",
       "      <td>22</td>\n",
       "      <td>1</td>\n",
       "      <td>58.35</td>\n",
       "      <td>58.350</td>\n",
       "      <td>61.280729</td>\n",
       "      <td>1</td>\n",
       "    </tr>\n",
       "  </tbody>\n",
       "</table>\n",
       "</div>"
      ],
      "text/plain": [
       "   recency  frequency  monetary  clv_lifesp_m  clv_lifesp_avg  clusters\n",
       "0        2          2   1519.14      1519.140     1595.441416         1\n",
       "1       75          1    270.00       675.000      283.561214         0\n",
       "2       18          1   1353.80      1353.800     1421.796931         1\n",
       "3       36          3    744.23       893.076      781.610230         1\n",
       "4       22          1     58.35        58.350       61.280729         1"
      ]
     },
     "execution_count": 50,
     "metadata": {},
     "output_type": "execute_result"
    }
   ],
   "source": [
    "rfm_clv = rfm_clv.copy()\n",
    "rfm_clv[\"clusters\"] = kmeans_model.labels_\n",
    "rfm_clv.head()"
   ]
  },
  {
   "cell_type": "code",
   "execution_count": 45,
   "id": "e76ad607",
   "metadata": {
    "colab": {
     "base_uri": "https://localhost:8080/",
     "height": 571
    },
    "id": "e76ad607",
    "outputId": "efa9a760-b9af-4813-c71d-a6c717f3c3e2"
   },
   "outputs": [
    {
     "data": {
      "image/png": "[encoded data removed]",
      "text/plain": [
       "<Figure size 1296x576 with 6 Axes>"
      ]
     },
     "metadata": {
      "needs_background": "light"
     },
     "output_type": "display_data"
    }
   ],
   "source": [
    "plt.figure(figsize=(18,8))\n",
    "\n",
    "# Recency vs Frequency\n",
    "plt.subplot(2, 3, 1)\n",
    "plt.scatter(std_df['recency'], std_df['frequency'],c = std_df['clusters'] , alpha=0.5)\n",
    "plt.xlabel('Recency')\n",
    "plt.ylabel('Frequency')\n",
    "plt.title('Recency vs Frequency')\n",
    "\n",
    "# Recency vs Monetary\n",
    "plt.subplot(2, 3, 2)\n",
    "plt.scatter(std_df['recency'], std_df['monetary'], c = std_df['clusters'], alpha=0.5)\n",
    "plt.xlabel('Recency')\n",
    "plt.ylabel('Monetary')\n",
    "plt.title('Recency vs Monetary')\n",
    "\n",
    "# Frequency vs Monetary\n",
    "plt.subplot(2, 3, 3)\n",
    "plt.scatter(std_df['frequency'], std_df['monetary'], c = std_df['clusters'], alpha=0.5)\n",
    "plt.xlabel('Frequency')\n",
    "plt.ylabel('Monetary')\n",
    "plt.title('Frequency vs Monetary')\n",
    "\n",
    "# recency vs clv_lifesp_avg\n",
    "plt.subplot(2, 3, 4)\n",
    "plt.scatter(std_df['clv_lifesp_avg'], std_df['recency'], c = std_df['clusters'] , alpha=0.6)\n",
    "plt.xlabel('clv_lifesp_avg')\n",
    "plt.ylabel('recency')\n",
    "plt.title('Scatter Plot - recency vs clv_lifesp_avg')\n",
    "\n",
    "# Frequency vs clv_lifesp_avg\n",
    "plt.subplot(2, 3, 5)\n",
    "plt.scatter(std_df['clv_lifesp_avg'], std_df['frequency'], c = std_df['clusters'] , alpha=0.6)\n",
    "plt.xlabel('clv_lifesp_avg')\n",
    "plt.ylabel('Frequency')\n",
    "plt.title('Scatter Plot - Frequency vs clv_lifesp_avg')\n",
    "\n",
    "# Frequency vs clv_lifesp_avg\n",
    "plt.subplot(2, 3, 6)\n",
    "plt.scatter(std_df['clv_lifesp_avg'], std_df['monetary'], c = std_df['clusters'] , alpha=0.6)\n",
    "plt.xlabel('clv_lifesp_avg')\n",
    "plt.ylabel('Monetary')\n",
    "plt.title('Scatter Plot - Monetary vs clv_lifesp_avg')\n",
    "\n",
    "\n",
    "\n",
    "plt.tight_layout()\n",
    "plt.show()\n",
    "\n"
   ]
  },
  {
   "cell_type": "code",
   "execution_count": 53,
   "id": "bdda4106",
   "metadata": {
    "id": "bdda4106"
   },
   "outputs": [
    {
     "data": {
      "image/png": "[encoded data removed]",
      "text/plain": [
       "<Figure size 1008x432 with 2 Axes>"
      ]
     },
     "metadata": {
      "needs_background": "light"
     },
     "output_type": "display_data"
    }
   ],
   "source": [
    "fig, axes = plt.subplots(1, 2, figsize=(14,6))  # 1 ردیف، 2 ستون\n",
    "\n",
    "sbn.stripplot(x='clusters', y='recency' , data = rfm_clv ,  ax=axes[0])\n",
    "axes[0].set_title(\"Recency by Clusters - rfm_clv\")\n",
    "\n",
    "\n",
    "sbn.stripplot(x='clusters', y='recency' , data = std_df ,  ax=axes[1])\n",
    "axes[1].set_title(\"Recency by Clusters - std_df\")\n",
    "\n",
    "\n",
    "plt.tight_layout()\n",
    "plt.show()\n"
   ]
  },
  {
   "cell_type": "code",
   "execution_count": 61,
   "id": "ac85e7d2",
   "metadata": {},
   "outputs": [
    {
     "data": {
      "image/png": "[encoded data removed]",
      "text/plain": [
       "<Figure size 1008x432 with 2 Axes>"
      ]
     },
     "metadata": {
      "needs_background": "light"
     },
     "output_type": "display_data"
    }
   ],
   "source": [
    "fig, axes = plt.subplots(1, 2, figsize=(14,6))  # 1 ردیف، 2 ستون\n",
    "\n",
    "sbn.stripplot(x='clusters', y='frequency' , data = rfm_clv ,  ax=axes[0])\n",
    "axes[0].set_title(\"Recency by Frequency - rfm_clv\")\n",
    "\n",
    "\n",
    "sbn.stripplot(x='clusters', y='frequency' , data = std_df ,  ax=axes[1])\n",
    "axes[1].set_title(\"Recency by Frequency - std_df\")\n",
    "\n",
    "\n",
    "plt.tight_layout()\n",
    "plt.show()\n"
   ]
  },
  {
   "cell_type": "code",
   "execution_count": 62,
   "id": "8cc33b5a",
   "metadata": {},
   "outputs": [
    {
     "data": {
      "image/png": "[encoded data removed]",
      "text/plain": [
       "<Figure size 1008x432 with 2 Axes>"
      ]
     },
     "metadata": {
      "needs_background": "light"
     },
     "output_type": "display_data"
    }
   ],
   "source": [
    "fig, axes = plt.subplots(1, 2, figsize=(14,6))  # 1 ردیف، 2 ستون\n",
    "\n",
    "sbn.stripplot(x='clusters', y='monetary' , data = rfm_clv ,  ax=axes[0])\n",
    "axes[0].set_title(\"Recency by Monetary - rfm_clv\")\n",
    "\n",
    "\n",
    "sbn.stripplot(x='clusters', y='monetary' , data = std_df ,  ax=axes[1])\n",
    "axes[1].set_title(\"Recency by Monetary - std_df\")\n",
    "\n",
    "\n",
    "plt.tight_layout()\n",
    "plt.show()\n"
   ]
  },
  {
   "cell_type": "code",
   "execution_count": 66,
   "id": "f3d7be50",
   "metadata": {},
   "outputs": [
    {
     "data": {
      "image/png": "[encoded data removed]",
      "text/plain": [
       "<Figure size 1008x432 with 2 Axes>"
      ]
     },
     "metadata": {
      "needs_background": "light"
     },
     "output_type": "display_data"
    }
   ],
   "source": [
    "fig, axes = plt.subplots(1, 2, figsize=(14,6))  # 1 ردیف، 2 ستون\n",
    "\n",
    "sbn.stripplot(x='clusters', y='clv_lifesp_avg' , data = rfm_clv ,  ax=axes[0])\n",
    "axes[0].set_title(\"Recency by CLV - rfm_clv\")\n",
    "\n",
    "\n",
    "sbn.stripplot(x='clusters', y='clv_lifesp_avg' , data = std_df ,  ax=axes[1])\n",
    "axes[1].set_title(\"Recency by CLV - std_df\")\n",
    "\n",
    "\n",
    "plt.tight_layout()\n",
    "plt.show()\n"
   ]
  },
  {
   "cell_type": "code",
   "execution_count": 54,
   "id": "ab27dc5f",
   "metadata": {
    "colab": {
     "base_uri": "https://localhost:8080/",
     "height": 206
    },
    "id": "ab27dc5f",
    "outputId": "45bda5cd-762e-45d1-b5f9-dcb6c6257b5c"
   },
   "outputs": [
    {
     "data": {
      "text/html": [
       "<div>\n",
       "<style scoped>\n",
       "    .dataframe tbody tr th:only-of-type {\n",
       "        vertical-align: middle;\n",
       "    }\n",
       "\n",
       "    .dataframe tbody tr th {\n",
       "        vertical-align: top;\n",
       "    }\n",
       "\n",
       "    .dataframe thead th {\n",
       "        text-align: right;\n",
       "    }\n",
       "</style>\n",
       "<table border=\"1\" class=\"dataframe\">\n",
       "  <thead>\n",
       "    <tr style=\"text-align: right;\">\n",
       "      <th></th>\n",
       "      <th>recency</th>\n",
       "      <th>frequency</th>\n",
       "      <th>monetary</th>\n",
       "      <th>clv_lifesp_m</th>\n",
       "      <th>clv_lifesp_avg</th>\n",
       "      <th>clusters</th>\n",
       "      <th>customer_id</th>\n",
       "    </tr>\n",
       "  </thead>\n",
       "  <tbody>\n",
       "    <tr>\n",
       "      <th>0</th>\n",
       "      <td>-1.186814</td>\n",
       "      <td>-0.085718</td>\n",
       "      <td>0.248149</td>\n",
       "      <td>0.169320</td>\n",
       "      <td>0.248149</td>\n",
       "      <td>1</td>\n",
       "      <td>12347.0</td>\n",
       "    </tr>\n",
       "    <tr>\n",
       "      <th>1</th>\n",
       "      <td>1.749371</td>\n",
       "      <td>-0.403227</td>\n",
       "      <td>-0.276972</td>\n",
       "      <td>-0.177808</td>\n",
       "      <td>-0.276972</td>\n",
       "      <td>0</td>\n",
       "      <td>12348.0</td>\n",
       "    </tr>\n",
       "    <tr>\n",
       "      <th>2</th>\n",
       "      <td>-0.543267</td>\n",
       "      <td>-0.403227</td>\n",
       "      <td>0.178643</td>\n",
       "      <td>0.101329</td>\n",
       "      <td>0.178643</td>\n",
       "      <td>1</td>\n",
       "      <td>12349.0</td>\n",
       "    </tr>\n",
       "    <tr>\n",
       "      <th>3</th>\n",
       "      <td>0.180724</td>\n",
       "      <td>0.231792</td>\n",
       "      <td>-0.077612</td>\n",
       "      <td>-0.088130</td>\n",
       "      <td>-0.077612</td>\n",
       "      <td>1</td>\n",
       "      <td>12352.0</td>\n",
       "    </tr>\n",
       "    <tr>\n",
       "      <th>4</th>\n",
       "      <td>-0.382380</td>\n",
       "      <td>-0.403227</td>\n",
       "      <td>-0.365947</td>\n",
       "      <td>-0.431387</td>\n",
       "      <td>-0.365947</td>\n",
       "      <td>1</td>\n",
       "      <td>12356.0</td>\n",
       "    </tr>\n",
       "  </tbody>\n",
       "</table>\n",
       "</div>"
      ],
      "text/plain": [
       "    recency  frequency  monetary  clv_lifesp_m  clv_lifesp_avg  clusters  \\\n",
       "0 -1.186814  -0.085718  0.248149      0.169320        0.248149         1   \n",
       "1  1.749371  -0.403227 -0.276972     -0.177808       -0.276972         0   \n",
       "2 -0.543267  -0.403227  0.178643      0.101329        0.178643         1   \n",
       "3  0.180724   0.231792 -0.077612     -0.088130       -0.077612         1   \n",
       "4 -0.382380  -0.403227 -0.365947     -0.431387       -0.365947         1   \n",
       "\n",
       "   customer_id  \n",
       "0      12347.0  \n",
       "1      12348.0  \n",
       "2      12349.0  \n",
       "3      12352.0  \n",
       "4      12356.0  "
      ]
     },
     "execution_count": 54,
     "metadata": {},
     "output_type": "execute_result"
    }
   ],
   "source": [
    "std_df['customer_id'] = rfm_last_3month['customer_id'].values\n",
    "std_df.head()"
   ]
  },
  {
   "cell_type": "code",
   "execution_count": 55,
   "id": "66791586",
   "metadata": {
    "id": "66791586"
   },
   "outputs": [],
   "source": [
    "clusters_mean = std_df.groupby('clusters').agg(\n",
    "                                                avg_recency = ('recency' , 'mean'),\n",
    "                                                avg_frequency = ('frequency','mean'),\n",
    "                                                avg_monetary = ('monetary','mean'),\n",
    "                                                avg_clv_lifesp_m = ('clv_lifesp_m','mean'),\n",
    "                                                avg_clv_lifesp_avg = ('clv_lifesp_avg','mean'),\n",
    "                                                customers_count = ('customer_id' , 'count')\n",
    "\n",
    ").reset_index()"
   ]
  },
  {
   "cell_type": "code",
   "execution_count": 56,
   "id": "cc194492",
   "metadata": {
    "colab": {
     "base_uri": "https://localhost:8080/",
     "height": 206
    },
    "id": "cc194492",
    "outputId": "e404ff45-33b4-4afc-9396-250cfdb6fb32"
   },
   "outputs": [
    {
     "data": {
      "text/html": [
       "<div>\n",
       "<style scoped>\n",
       "    .dataframe tbody tr th:only-of-type {\n",
       "        vertical-align: middle;\n",
       "    }\n",
       "\n",
       "    .dataframe tbody tr th {\n",
       "        vertical-align: top;\n",
       "    }\n",
       "\n",
       "    .dataframe thead th {\n",
       "        text-align: right;\n",
       "    }\n",
       "</style>\n",
       "<table border=\"1\" class=\"dataframe\">\n",
       "  <thead>\n",
       "    <tr style=\"text-align: right;\">\n",
       "      <th></th>\n",
       "      <th>clusters</th>\n",
       "      <th>avg_recency</th>\n",
       "      <th>avg_frequency</th>\n",
       "      <th>avg_monetary</th>\n",
       "      <th>avg_clv_lifesp_m</th>\n",
       "      <th>avg_clv_lifesp_avg</th>\n",
       "      <th>customers_count</th>\n",
       "    </tr>\n",
       "  </thead>\n",
       "  <tbody>\n",
       "    <tr>\n",
       "      <th>0</th>\n",
       "      <td>0</td>\n",
       "      <td>1.253116</td>\n",
       "      <td>-0.348201</td>\n",
       "      <td>-0.198376</td>\n",
       "      <td>-0.066842</td>\n",
       "      <td>-0.198376</td>\n",
       "      <td>929</td>\n",
       "    </tr>\n",
       "    <tr>\n",
       "      <th>1</th>\n",
       "      <td>1</td>\n",
       "      <td>-0.548270</td>\n",
       "      <td>-0.080756</td>\n",
       "      <td>-0.131433</td>\n",
       "      <td>-0.196171</td>\n",
       "      <td>-0.131433</td>\n",
       "      <td>1664</td>\n",
       "    </tr>\n",
       "    <tr>\n",
       "      <th>2</th>\n",
       "      <td>2</td>\n",
       "      <td>-1.186814</td>\n",
       "      <td>11.741501</td>\n",
       "      <td>21.205712</td>\n",
       "      <td>20.669938</td>\n",
       "      <td>21.205713</td>\n",
       "      <td>4</td>\n",
       "    </tr>\n",
       "    <tr>\n",
       "      <th>3</th>\n",
       "      <td>3</td>\n",
       "      <td>-1.092964</td>\n",
       "      <td>5.460110</td>\n",
       "      <td>5.865304</td>\n",
       "      <td>5.664002</td>\n",
       "      <td>5.865304</td>\n",
       "      <td>15</td>\n",
       "    </tr>\n",
       "    <tr>\n",
       "      <th>4</th>\n",
       "      <td>4</td>\n",
       "      <td>-0.904631</td>\n",
       "      <td>1.290156</td>\n",
       "      <td>0.902719</td>\n",
       "      <td>0.866217</td>\n",
       "      <td>0.902719</td>\n",
       "      <td>255</td>\n",
       "    </tr>\n",
       "  </tbody>\n",
       "</table>\n",
       "</div>"
      ],
      "text/plain": [
       "   clusters  avg_recency  avg_frequency  avg_monetary  avg_clv_lifesp_m  \\\n",
       "0         0     1.253116      -0.348201     -0.198376         -0.066842   \n",
       "1         1    -0.548270      -0.080756     -0.131433         -0.196171   \n",
       "2         2    -1.186814      11.741501     21.205712         20.669938   \n",
       "3         3    -1.092964       5.460110      5.865304          5.664002   \n",
       "4         4    -0.904631       1.290156      0.902719          0.866217   \n",
       "\n",
       "   avg_clv_lifesp_avg  customers_count  \n",
       "0           -0.198376              929  \n",
       "1           -0.131433             1664  \n",
       "2           21.205713                4  \n",
       "3            5.865304               15  \n",
       "4            0.902719              255  "
      ]
     },
     "execution_count": 56,
     "metadata": {},
     "output_type": "execute_result"
    }
   ],
   "source": [
    "clusters_mean"
   ]
  },
  {
   "cell_type": "code",
   "execution_count": 57,
   "id": "d75a7c1a",
   "metadata": {
    "id": "d75a7c1a"
   },
   "outputs": [],
   "source": [
    "std_df.to_csv('RFM_CLV&RFM_3Month.csv')"
   ]
  },
  {
   "cell_type": "code",
   "execution_count": 58,
   "id": "e77f9e9d",
   "metadata": {
    "id": "e77f9e9d"
   },
   "outputs": [],
   "source": [
    "std_df.to_excel('RFM_CLV&RFM_3Month.xlsx')"
   ]
  },
  {
   "cell_type": "code",
   "execution_count": 59,
   "id": "885e3d63",
   "metadata": {
    "id": "885e3d63"
   },
   "outputs": [],
   "source": [
    "clusters_mean.to_csv('RFM_CLV&RFM_3Month_mean.csv')"
   ]
  },
  {
   "cell_type": "code",
   "execution_count": 60,
   "id": "a6d44fcb",
   "metadata": {
    "id": "a6d44fcb"
   },
   "outputs": [],
   "source": [
    "clusters_mean.to_excel('RFM_CLV&RFM_3Month_mean.xlsx')"
   ]
  },
  {
   "cell_type": "code",
   "execution_count": 56,
   "id": "bd8fe4d9",
   "metadata": {
    "id": "bd8fe4d9"
   },
   "outputs": [],
   "source": []
  }
 ],
 "metadata": {
  "colab": {
   "provenance": []
  },
  "kernelspec": {
   "display_name": "Python 3 (ipykernel)",
   "language": "python",
   "name": "python3"
  },
  "language_info": {
   "codemirror_mode": {
    "name": "ipython",
    "version": 3
   },
   "file_extension": ".py",
   "mimetype": "text/x-python",
   "name": "python",
   "nbconvert_exporter": "python",
   "pygments_lexer": "ipython3",
   "version": "3.7.7"
  }
 },
 "nbformat": 4,
 "nbformat_minor": 5
}
